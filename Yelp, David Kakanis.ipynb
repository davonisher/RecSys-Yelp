{
 "cells": [
  {
   "attachments": {},
   "cell_type": "markdown",
   "metadata": {},
   "source": [
    "# <font color='green'>System Development for Marketing</font>\n",
    "\n",
    "David Kakanis -          500783676<br>"
   ]
  },
  {
   "attachments": {},
   "cell_type": "markdown",
   "metadata": {},
   "source": [
    "\n",
    "<font > Index: </font>\n",
    "\n",
    "1. Introduction\n",
    "\n",
    "    1.1 Research Question\n",
    "\n",
    "    1.2 Data Preprocessing\n",
    "\n",
    "2. Exploratory Data Analysis\n",
    "\n",
    "    2.1 User Preferences and Restaurant Characteristics\n",
    "\n",
    "    2.2 Data viz\n",
    "\n",
    "    2.3 Train/Validation/Testset Splitting\n",
    "\n",
    "3. Model Evaluation\n",
    "\n",
    "    3.1 Cosine Similarity\n",
    "\n",
    "    3.2 KNN Collaborative Filtering\n",
    "    \n",
    "    3.3 SVD Collaborative Filtering\n",
    "\n",
    "4. Conclusion\n",
    "***\n"
   ]
  },
  {
   "attachments": {},
   "cell_type": "markdown",
   "metadata": {},
   "source": [
    " # 1. *Introduction*\n",
    "\n",
    "The central aim of this project is to investigate the performance variation of recommendation systems, particularly collaborative filtering techniques such as K-Nearest Neighbors (KNN) and Singular Value Decomposition (SVD), across different states for the \"Restaurants\" category in the Yelp dataset. Our client, Yelp, is a popular online platform that offers user reviews and recommendations for businesses.\n",
    "\n",
    "An integral part of Yelp's service is its ability to provide highly personalized and relevant restaurant recommendations to its users. To achieve this, Yelp relies on an effective recommendation system that helps users navigate through the large number of restaurants and ensures they find what they are looking for with ease.\n",
    "\n",
    "Nevertheless, geographical location is a crucial factor that can influence user preferences and restaurant characteristics. Consequently, this project aims to examine if the state in which a restaurant is located influences the effectiveness of the recommendation system and, if so, how.\n",
    "\n",
    "The findings from this research could provide valuable insights for Yelp, helping them decide whether a single, country-wide recommendation model is the best approach, or if state-specific recommendation models would deliver better results. By enhancing the performance of its recommendation system in this way, Yelp could further improve the user experience, aiding users in discovering their ideal restaurants more accurately and efficiently.\n",
    "\n",
    "Research Questions:\n",
    "\n",
    "Main Research Question:\n",
    "\n",
    "* Does the performance of collaborative filtering techniques, such as KNN and SVD, vary across different states when applied to the \"Restaurants\" category in Yelp's dataset? *\n",
    "\n",
    "Sub-questions:\n",
    "\n",
    "1. How do user preferences and restaurant characteristics differ across various states?\n",
    "2. How do the different models differ in terms of cosine similarity?\n",
    "3. Is there a significant difference in the effectiveness of restaurant recommendations using collaborative filtering via KNN across different states?\n",
    "4. Is there a significant difference in the effectiveness of restaurant recommendations using collaborative filtering via SVD across different states?\n",
    "5. How do the KNN and SVD algorithms perform in terms of accuracy when applied to restaurant data from different states?\n",
    "6. How would the top 10 restaurants be suggested to a particular user? \n",
    "\n",
    "These research questions aim to understand the variations in performance of recommendation systems across different states, specifically within the \"Restaurants\" category. This information could help Yelp in deciding whether to implement state-specific models for better performance of their recommendation engine."
   ]
  },
  {
   "attachments": {},
   "cell_type": "markdown",
   "metadata": {},
   "source": [
    "## 1.1 Importing data"
   ]
  },
  {
   "cell_type": "code",
   "execution_count": 5,
   "metadata": {},
   "outputs": [],
   "source": [
    "# importing necessary libraries\n",
    "import pandas as pd\n",
    "import numpy as np\n",
    "import matplotlib.pyplot as plt\n",
    "import seaborn as sns\n",
    "from sklearn.model_selection import train_test_split\n",
    "from sklearn.metrics import mean_squared_error\n",
    "from sklearn.metrics import mean_absolute_error\n",
    "from sklearn.neighbors import NearestNeighbors\n",
    "from scipy.sparse import csr_matrix\n",
    "from math import sqrt\n",
    "from surprise import Reader, Dataset, SVD, accuracy\n",
    "from surprise.model_selection import train_test_split\n",
    "import tarfile\n",
    "from surprise import Reader, Dataset\n",
    "from surprise import KNNBasic\n",
    "from surprise.model_selection import cross_validate\n",
    "from sklearn.model_selection import GridSearchCV\n",
    "from sklearn.metrics import make_scorer\n",
    "from sklearn.neighbors import NearestNeighbors\n",
    "from sklearn.metrics import mean_squared_error\n",
    "from sklearn.base import BaseEstimator"
   ]
  },
  {
   "cell_type": "code",
   "execution_count": 2,
   "metadata": {},
   "outputs": [],
   "source": [
    "# Read in the data\n",
    "tar_file_path = r\"C:\\Users\\User\\iCloudDrive\\Master DDB\\RecSys\\Yelp\\yelp_dataset.tar\"\n",
    "output_dir = r\"C:\\Users\\User\\iCloudDrive\\Master DDB\\RecSys\\Yelp\\yelp_df\"\n",
    "# Extract the tar file\n",
    "with tarfile.open(tar_file_path, 'r') as tar:\n",
    "    tar.extractall(output_dir)"
   ]
  },
  {
   "attachments": {},
   "cell_type": "markdown",
   "metadata": {},
   "source": [
    "## 1.2 Dataset preparation and selection of popular restaurants and active users\n",
    "\n",
    "This code loads and processes a large review dataset in chunks. It filters the data based on specific criteria, such as keeping only users with at least 20 ratings and businesses with at least 50 ratings. The filtered chunks are then concatenated into a single DataFrame called filtered_df. The code uses chunk-based processing to handle large datasets efficiently, ensuring that only the necessary data is loaded and processed at each iteration.\n",
    "\n",
    "Selecting only popular restaurants and active users is done for further memory optimization reasons. Subsequently, this can help improve the performance and relevance of recommendation systems."
   ]
  },
  {
   "cell_type": "code",
   "execution_count": null,
   "metadata": {},
   "outputs": [],
   "source": [
    "# Specify the columns to load from the reviews dataset\n",
    "review_cols = ['business_id', 'user_id', 'stars']\n",
    "\n",
    "# Initialize an empty list to store the chunks of data\n",
    "filtered_chunks = []\n",
    "\n",
    "# Initialize chunk size (this is the number of rows that will be processed at a time)\n",
    "chunksize = 10 ** 6\n",
    "\n",
    "# Load and process the review data in chunks\n",
    "chunk_count = 0  # Initialize chunk count\n",
    "for chunk in pd.read_json(\"C:/Users/User/iCloudDrive/Master DDB/RecSys/Yelp/yelp_df/yelp_academic_dataset_review.json\",\n",
    "                           lines=True,\n",
    "                           chunksize=chunksize):\n",
    "    # Select the desired columns\n",
    "    chunk = chunk[review_cols]\n",
    "    \n",
    "    # Count the number of ratings per user and business\n",
    "    user_ratings_count = chunk['user_id'].value_counts()\n",
    "    business_ratings_count = chunk['business_id'].value_counts()\n",
    "    \n",
    "    # Filter out users with less than 20 ratings and businesses with less than 50 ratings\n",
    "    chunk_filtered = chunk[\n",
    "        (chunk['user_id'].isin(user_ratings_count[user_ratings_count >= 20].index)) &\n",
    "        (chunk['business_id'].isin(business_ratings_count[business_ratings_count >= 50].index))\n",
    "    ]\n",
    "    \n",
    "    \n",
    "    # Append the filtered chunk to the list\n",
    "    filtered_chunks.append(chunk_filtered)\n",
    "    \n",
    "    # Increment the chunk count\n",
    "    chunk_count += 1\n",
    "\n",
    "# Concatenate all the filtered chunks into a single DataFrame\n",
    "filtered_df = pd.concat(filtered_chunks)\n",
    "\n",
    "# Print the number of chunks loaded\n",
    "print(f\"Number of chunks loaded: {chunk_count}\")\n"
   ]
  },
  {
   "cell_type": "code",
   "execution_count": null,
   "metadata": {},
   "outputs": [],
   "source": [
    "# Save DataFrame to Parquet file for memory optimization\n",
    "filtered_df.to_parquet('C:/Users/User/iCloudDrive/Master DDB/RecSys/Yelp/filtered_df.parquet')\n",
    "\n",
    "# Read the filtered_df.parquet file\n",
    "filtered_df = pd.read_parquet('C:/Users/User/iCloudDrive/Master DDB/RecSys/Yelp/filtered_df.parquet')"
   ]
  },
  {
   "cell_type": "code",
   "execution_count": 8,
   "metadata": {},
   "outputs": [
    {
     "data": {
      "text/html": [
       "<div>\n",
       "<style scoped>\n",
       "    .dataframe tbody tr th:only-of-type {\n",
       "        vertical-align: middle;\n",
       "    }\n",
       "\n",
       "    .dataframe tbody tr th {\n",
       "        vertical-align: top;\n",
       "    }\n",
       "\n",
       "    .dataframe thead th {\n",
       "        text-align: right;\n",
       "    }\n",
       "</style>\n",
       "<table border=\"1\" class=\"dataframe\">\n",
       "  <thead>\n",
       "    <tr style=\"text-align: right;\">\n",
       "      <th></th>\n",
       "      <th>stars</th>\n",
       "    </tr>\n",
       "  </thead>\n",
       "  <tbody>\n",
       "    <tr>\n",
       "      <th>count</th>\n",
       "      <td>423481.000000</td>\n",
       "    </tr>\n",
       "    <tr>\n",
       "      <th>mean</th>\n",
       "      <td>3.896505</td>\n",
       "    </tr>\n",
       "    <tr>\n",
       "      <th>std</th>\n",
       "      <td>1.038280</td>\n",
       "    </tr>\n",
       "    <tr>\n",
       "      <th>min</th>\n",
       "      <td>1.000000</td>\n",
       "    </tr>\n",
       "    <tr>\n",
       "      <th>25%</th>\n",
       "      <td>3.000000</td>\n",
       "    </tr>\n",
       "    <tr>\n",
       "      <th>50%</th>\n",
       "      <td>4.000000</td>\n",
       "    </tr>\n",
       "    <tr>\n",
       "      <th>75%</th>\n",
       "      <td>5.000000</td>\n",
       "    </tr>\n",
       "    <tr>\n",
       "      <th>max</th>\n",
       "      <td>5.000000</td>\n",
       "    </tr>\n",
       "  </tbody>\n",
       "</table>\n",
       "</div>"
      ],
      "text/plain": [
       "               stars\n",
       "count  423481.000000\n",
       "mean        3.896505\n",
       "std         1.038280\n",
       "min         1.000000\n",
       "25%         3.000000\n",
       "50%         4.000000\n",
       "75%         5.000000\n",
       "max         5.000000"
      ]
     },
     "execution_count": 8,
     "metadata": {},
     "output_type": "execute_result"
    }
   ],
   "source": [
    "filtered_df.describe()"
   ]
  },
  {
   "cell_type": "code",
   "execution_count": 9,
   "metadata": {},
   "outputs": [],
   "source": [
    "# File paths\n",
    "business_file = \"C:/Users/User/iCloudDrive/Master DDB/RecSys/Yelp/yelp_df/yelp_academic_dataset_business.json\"\n",
    "\n",
    "# Load data into pandas DataFrames\n",
    "business_df = pd.read_json(business_file, lines=True)"
   ]
  },
  {
   "cell_type": "code",
   "execution_count": 22,
   "metadata": {},
   "outputs": [
    {
     "data": {
      "text/html": [
       "<div>\n",
       "<style scoped>\n",
       "    .dataframe tbody tr th:only-of-type {\n",
       "        vertical-align: middle;\n",
       "    }\n",
       "\n",
       "    .dataframe tbody tr th {\n",
       "        vertical-align: top;\n",
       "    }\n",
       "\n",
       "    .dataframe thead th {\n",
       "        text-align: right;\n",
       "    }\n",
       "</style>\n",
       "<table border=\"1\" class=\"dataframe\">\n",
       "  <thead>\n",
       "    <tr style=\"text-align: right;\">\n",
       "      <th></th>\n",
       "      <th>business_id</th>\n",
       "      <th>name</th>\n",
       "      <th>address</th>\n",
       "      <th>city</th>\n",
       "      <th>state</th>\n",
       "      <th>postal_code</th>\n",
       "      <th>latitude</th>\n",
       "      <th>longitude</th>\n",
       "      <th>stars</th>\n",
       "      <th>review_count</th>\n",
       "      <th>is_open</th>\n",
       "      <th>attributes</th>\n",
       "      <th>categories</th>\n",
       "      <th>hours</th>\n",
       "    </tr>\n",
       "  </thead>\n",
       "  <tbody>\n",
       "    <tr>\n",
       "      <th>75713</th>\n",
       "      <td>kWFgllI8AfMCIvRJ2KwuRA</td>\n",
       "      <td>The Port Of Peri Peri</td>\n",
       "      <td>5941 E 86th St</td>\n",
       "      <td>Indianapolis</td>\n",
       "      <td>IN</td>\n",
       "      <td>46256</td>\n",
       "      <td>39.911531</td>\n",
       "      <td>-86.067676</td>\n",
       "      <td>4.5</td>\n",
       "      <td>122</td>\n",
       "      <td>1</td>\n",
       "      <td>{'RestaurantsTableService': 'True', 'BusinessA...</td>\n",
       "      <td>Chicken Shop, South African, Restaurants, Afri...</td>\n",
       "      <td>{'Monday': '0:0-0:0', 'Tuesday': '11:0-21:0', ...</td>\n",
       "    </tr>\n",
       "  </tbody>\n",
       "</table>\n",
       "</div>"
      ],
      "text/plain": [
       "                  business_id                   name         address  \\\n",
       "75713  kWFgllI8AfMCIvRJ2KwuRA  The Port Of Peri Peri  5941 E 86th St   \n",
       "\n",
       "               city state postal_code   latitude  longitude  stars  \\\n",
       "75713  Indianapolis    IN       46256  39.911531 -86.067676    4.5   \n",
       "\n",
       "       review_count  is_open  \\\n",
       "75713           122        1   \n",
       "\n",
       "                                              attributes  \\\n",
       "75713  {'RestaurantsTableService': 'True', 'BusinessA...   \n",
       "\n",
       "                                              categories  \\\n",
       "75713  Chicken Shop, South African, Restaurants, Afri...   \n",
       "\n",
       "                                                   hours  \n",
       "75713  {'Monday': '0:0-0:0', 'Tuesday': '11:0-21:0', ...  "
      ]
     },
     "execution_count": 22,
     "metadata": {},
     "output_type": "execute_result"
    }
   ],
   "source": [
    "business_df.sample(1)"
   ]
  },
  {
   "cell_type": "code",
   "execution_count": 10,
   "metadata": {},
   "outputs": [
    {
     "name": "stdout",
     "output_type": "stream",
     "text": [
      "There are 19993 duplicates in the DataFrame.\n",
      "<class 'pandas.core.frame.DataFrame'>\n",
      "Int64Index: 330645 entries, 0 to 423480\n",
      "Data columns (total 4 columns):\n",
      " #   Column       Non-Null Count   Dtype \n",
      "---  ------       --------------   ----- \n",
      " 0   stars        330645 non-null  int64 \n",
      " 1   business_id  330645 non-null  int16 \n",
      " 2   user_id      330645 non-null  int16 \n",
      " 3   state        330645 non-null  object\n",
      "dtypes: int16(2), int64(1), object(1)\n",
      "memory usage: 8.8+ MB\n"
     ]
    }
   ],
   "source": [
    "# Filter 'business_df' to include only businesses in the 'Restaurants' category\n",
    "restaurants_df = business_df[business_df['categories'].str.contains('Restaurants', na=False)]\n",
    "\n",
    "# Merge 'state' column from 'restaurants_df' into 'merged_df'\n",
    "merged_df = pd.merge(filtered_df, restaurants_df[['business_id', 'state']], on='business_id', how='left')\n",
    "\n",
    "# Select only 'stars', 'business_id', 'user_id', and 'state' columns\n",
    "df = merged_df[['stars', 'business_id', 'user_id', 'state']]\n",
    "\n",
    "# Count and print the number of duplicates in the DataFrame based on the \"business_id\", \"user_id\", and \"stars_x\" columns\n",
    "duplicates = df.duplicated([\"business_id\",\"user_id\",\"stars\", \"state\"]).sum()\n",
    "print(f'There are {duplicates} duplicates in the DataFrame.')\n",
    "\n",
    "# Remove duplicates from the DataFrame\n",
    "df = df.drop_duplicates([\"business_id\",\"user_id\",\"stars\", \"state\"])\n",
    "\n",
    "# Remove rows with any NaN values\n",
    "df = df.dropna()\n",
    "\n",
    "# Convert user_id and business_id columns to category data type\n",
    "df['user_id'] = df['user_id'].astype('category')\n",
    "df['business_id'] = df['business_id'].astype('category')\n",
    "\n",
    "# Convert category codes to integers for user_id and business_id\n",
    "df['user_id'] = df['user_id'].cat.codes\n",
    "df['business_id'] = df['business_id'].cat.codes\n",
    "\n",
    "df.info()"
   ]
  },
  {
   "attachments": {},
   "cell_type": "markdown",
   "metadata": {},
   "source": [
    "# 2.  *Explanatory Data Analysis of the Yelp Dataset*"
   ]
  },
  {
   "cell_type": "code",
   "execution_count": 11,
   "metadata": {},
   "outputs": [
    {
     "name": "stdout",
     "output_type": "stream",
     "text": [
      "Number of unique businesses: 18573\n",
      "Number of unique users: 5002\n",
      "Average number of ratings per user: 66.10255897640944\n",
      "Average number of ratings per business: 17.80245517686965\n"
     ]
    }
   ],
   "source": [
    "# \n",
    "unique_businesses = df['business_id'].nunique()\n",
    "unique_users = df['user_id'].nunique()\n",
    "\n",
    "ratings_per_user = df.groupby('user_id').size()\n",
    "businesses_rated_per_user = df.groupby('user_id')['business_id'].nunique()\n",
    "ratings_per_business = df.groupby('business_id').size()\n",
    "\n",
    "avg_ratings_per_user = ratings_per_user.mean()\n",
    "avg_ratings_per_business = ratings_per_business.mean()\n",
    "\n",
    "print(f\"Number of unique businesses: {unique_businesses}\")\n",
    "print(f\"Number of unique users: {unique_users}\")\n",
    "print(f\"Average number of ratings per user: {avg_ratings_per_user}\")\n",
    "print(f\"Average number of ratings per business: {avg_ratings_per_business}\")\n"
   ]
  },
  {
   "attachments": {},
   "cell_type": "markdown",
   "metadata": {},
   "source": [
    "Based on the provided statistics, it appears that the dataset contains a sufficient number of ratings for both businesses and users. Here's an explanation:\n",
    "\n",
    "Number of unique businesses: 18573\n",
    "This indicates that the dataset includes ratings for a large number of distinct businesses.\n",
    "\n",
    "Number of unique users: 5002\n",
    "This shows that there are ratings provided by a substantial number of different users.\n",
    "\n",
    "Average number of ratings per user: 66.10\n",
    "On average, each user has provided approximately 66 ratings.\n",
    "This suggests that users have actively rated multiple businesses, indicating a decent level of engagement.\n",
    "\n",
    "Average number of ratings per business: 17.80\n",
    "On average, each business has received around 18 ratings.\n",
    "This implies that businesses have been rated multiple times, providing a substantial amount of data for each entity."
   ]
  },
  {
   "attachments": {},
   "cell_type": "markdown",
   "metadata": {},
   "source": [
    "### 2.1  SQ 1. How do user preferences and restaurant characteristics differ across various states?\n"
   ]
  },
  {
   "cell_type": "code",
   "execution_count": 259,
   "metadata": {},
   "outputs": [
    {
     "data": {
      "application/vnd.plotly.v1+json": {
       "config": {
        "plotlyServerURL": "https://plot.ly"
       },
       "data": [
        {
         "alignmentgroup": "True",
         "hovertemplate": "State=%{x}<br>Count=%{y}<extra></extra>",
         "legendgroup": "",
         "marker": {
          "color": "#636efa",
          "pattern": {
           "shape": ""
          }
         },
         "name": "",
         "offsetgroup": "",
         "orientation": "v",
         "showlegend": false,
         "textposition": "auto",
         "type": "bar",
         "x": [
          "PA",
          "FL",
          "IN",
          "MO",
          "LA",
          "TN",
          "AZ",
          "NV",
          "NJ",
          "CA",
          "AB",
          "ID",
          "DE",
          "IL"
         ],
         "xaxis": "x",
         "y": [
          103956,
          57880,
          31004,
          30612,
          27165,
          20826,
          17846,
          17391,
          9714,
          4189,
          4044,
          2802,
          1845,
          1371
         ],
         "yaxis": "y"
        }
       ],
       "layout": {
        "barmode": "relative",
        "legend": {
         "tracegroupgap": 0
        },
        "template": {
         "data": {
          "bar": [
           {
            "error_x": {
             "color": "#2a3f5f"
            },
            "error_y": {
             "color": "#2a3f5f"
            },
            "marker": {
             "line": {
              "color": "#E5ECF6",
              "width": 0.5
             },
             "pattern": {
              "fillmode": "overlay",
              "size": 10,
              "solidity": 0.2
             }
            },
            "type": "bar"
           }
          ],
          "barpolar": [
           {
            "marker": {
             "line": {
              "color": "#E5ECF6",
              "width": 0.5
             },
             "pattern": {
              "fillmode": "overlay",
              "size": 10,
              "solidity": 0.2
             }
            },
            "type": "barpolar"
           }
          ],
          "carpet": [
           {
            "aaxis": {
             "endlinecolor": "#2a3f5f",
             "gridcolor": "white",
             "linecolor": "white",
             "minorgridcolor": "white",
             "startlinecolor": "#2a3f5f"
            },
            "baxis": {
             "endlinecolor": "#2a3f5f",
             "gridcolor": "white",
             "linecolor": "white",
             "minorgridcolor": "white",
             "startlinecolor": "#2a3f5f"
            },
            "type": "carpet"
           }
          ],
          "choropleth": [
           {
            "colorbar": {
             "outlinewidth": 0,
             "ticks": ""
            },
            "type": "choropleth"
           }
          ],
          "contour": [
           {
            "colorbar": {
             "outlinewidth": 0,
             "ticks": ""
            },
            "colorscale": [
             [
              0,
              "#0d0887"
             ],
             [
              0.1111111111111111,
              "#46039f"
             ],
             [
              0.2222222222222222,
              "#7201a8"
             ],
             [
              0.3333333333333333,
              "#9c179e"
             ],
             [
              0.4444444444444444,
              "#bd3786"
             ],
             [
              0.5555555555555556,
              "#d8576b"
             ],
             [
              0.6666666666666666,
              "#ed7953"
             ],
             [
              0.7777777777777778,
              "#fb9f3a"
             ],
             [
              0.8888888888888888,
              "#fdca26"
             ],
             [
              1,
              "#f0f921"
             ]
            ],
            "type": "contour"
           }
          ],
          "contourcarpet": [
           {
            "colorbar": {
             "outlinewidth": 0,
             "ticks": ""
            },
            "type": "contourcarpet"
           }
          ],
          "heatmap": [
           {
            "colorbar": {
             "outlinewidth": 0,
             "ticks": ""
            },
            "colorscale": [
             [
              0,
              "#0d0887"
             ],
             [
              0.1111111111111111,
              "#46039f"
             ],
             [
              0.2222222222222222,
              "#7201a8"
             ],
             [
              0.3333333333333333,
              "#9c179e"
             ],
             [
              0.4444444444444444,
              "#bd3786"
             ],
             [
              0.5555555555555556,
              "#d8576b"
             ],
             [
              0.6666666666666666,
              "#ed7953"
             ],
             [
              0.7777777777777778,
              "#fb9f3a"
             ],
             [
              0.8888888888888888,
              "#fdca26"
             ],
             [
              1,
              "#f0f921"
             ]
            ],
            "type": "heatmap"
           }
          ],
          "heatmapgl": [
           {
            "colorbar": {
             "outlinewidth": 0,
             "ticks": ""
            },
            "colorscale": [
             [
              0,
              "#0d0887"
             ],
             [
              0.1111111111111111,
              "#46039f"
             ],
             [
              0.2222222222222222,
              "#7201a8"
             ],
             [
              0.3333333333333333,
              "#9c179e"
             ],
             [
              0.4444444444444444,
              "#bd3786"
             ],
             [
              0.5555555555555556,
              "#d8576b"
             ],
             [
              0.6666666666666666,
              "#ed7953"
             ],
             [
              0.7777777777777778,
              "#fb9f3a"
             ],
             [
              0.8888888888888888,
              "#fdca26"
             ],
             [
              1,
              "#f0f921"
             ]
            ],
            "type": "heatmapgl"
           }
          ],
          "histogram": [
           {
            "marker": {
             "pattern": {
              "fillmode": "overlay",
              "size": 10,
              "solidity": 0.2
             }
            },
            "type": "histogram"
           }
          ],
          "histogram2d": [
           {
            "colorbar": {
             "outlinewidth": 0,
             "ticks": ""
            },
            "colorscale": [
             [
              0,
              "#0d0887"
             ],
             [
              0.1111111111111111,
              "#46039f"
             ],
             [
              0.2222222222222222,
              "#7201a8"
             ],
             [
              0.3333333333333333,
              "#9c179e"
             ],
             [
              0.4444444444444444,
              "#bd3786"
             ],
             [
              0.5555555555555556,
              "#d8576b"
             ],
             [
              0.6666666666666666,
              "#ed7953"
             ],
             [
              0.7777777777777778,
              "#fb9f3a"
             ],
             [
              0.8888888888888888,
              "#fdca26"
             ],
             [
              1,
              "#f0f921"
             ]
            ],
            "type": "histogram2d"
           }
          ],
          "histogram2dcontour": [
           {
            "colorbar": {
             "outlinewidth": 0,
             "ticks": ""
            },
            "colorscale": [
             [
              0,
              "#0d0887"
             ],
             [
              0.1111111111111111,
              "#46039f"
             ],
             [
              0.2222222222222222,
              "#7201a8"
             ],
             [
              0.3333333333333333,
              "#9c179e"
             ],
             [
              0.4444444444444444,
              "#bd3786"
             ],
             [
              0.5555555555555556,
              "#d8576b"
             ],
             [
              0.6666666666666666,
              "#ed7953"
             ],
             [
              0.7777777777777778,
              "#fb9f3a"
             ],
             [
              0.8888888888888888,
              "#fdca26"
             ],
             [
              1,
              "#f0f921"
             ]
            ],
            "type": "histogram2dcontour"
           }
          ],
          "mesh3d": [
           {
            "colorbar": {
             "outlinewidth": 0,
             "ticks": ""
            },
            "type": "mesh3d"
           }
          ],
          "parcoords": [
           {
            "line": {
             "colorbar": {
              "outlinewidth": 0,
              "ticks": ""
             }
            },
            "type": "parcoords"
           }
          ],
          "pie": [
           {
            "automargin": true,
            "type": "pie"
           }
          ],
          "scatter": [
           {
            "fillpattern": {
             "fillmode": "overlay",
             "size": 10,
             "solidity": 0.2
            },
            "type": "scatter"
           }
          ],
          "scatter3d": [
           {
            "line": {
             "colorbar": {
              "outlinewidth": 0,
              "ticks": ""
             }
            },
            "marker": {
             "colorbar": {
              "outlinewidth": 0,
              "ticks": ""
             }
            },
            "type": "scatter3d"
           }
          ],
          "scattercarpet": [
           {
            "marker": {
             "colorbar": {
              "outlinewidth": 0,
              "ticks": ""
             }
            },
            "type": "scattercarpet"
           }
          ],
          "scattergeo": [
           {
            "marker": {
             "colorbar": {
              "outlinewidth": 0,
              "ticks": ""
             }
            },
            "type": "scattergeo"
           }
          ],
          "scattergl": [
           {
            "marker": {
             "colorbar": {
              "outlinewidth": 0,
              "ticks": ""
             }
            },
            "type": "scattergl"
           }
          ],
          "scattermapbox": [
           {
            "marker": {
             "colorbar": {
              "outlinewidth": 0,
              "ticks": ""
             }
            },
            "type": "scattermapbox"
           }
          ],
          "scatterpolar": [
           {
            "marker": {
             "colorbar": {
              "outlinewidth": 0,
              "ticks": ""
             }
            },
            "type": "scatterpolar"
           }
          ],
          "scatterpolargl": [
           {
            "marker": {
             "colorbar": {
              "outlinewidth": 0,
              "ticks": ""
             }
            },
            "type": "scatterpolargl"
           }
          ],
          "scatterternary": [
           {
            "marker": {
             "colorbar": {
              "outlinewidth": 0,
              "ticks": ""
             }
            },
            "type": "scatterternary"
           }
          ],
          "surface": [
           {
            "colorbar": {
             "outlinewidth": 0,
             "ticks": ""
            },
            "colorscale": [
             [
              0,
              "#0d0887"
             ],
             [
              0.1111111111111111,
              "#46039f"
             ],
             [
              0.2222222222222222,
              "#7201a8"
             ],
             [
              0.3333333333333333,
              "#9c179e"
             ],
             [
              0.4444444444444444,
              "#bd3786"
             ],
             [
              0.5555555555555556,
              "#d8576b"
             ],
             [
              0.6666666666666666,
              "#ed7953"
             ],
             [
              0.7777777777777778,
              "#fb9f3a"
             ],
             [
              0.8888888888888888,
              "#fdca26"
             ],
             [
              1,
              "#f0f921"
             ]
            ],
            "type": "surface"
           }
          ],
          "table": [
           {
            "cells": {
             "fill": {
              "color": "#EBF0F8"
             },
             "line": {
              "color": "white"
             }
            },
            "header": {
             "fill": {
              "color": "#C8D4E3"
             },
             "line": {
              "color": "white"
             }
            },
            "type": "table"
           }
          ]
         },
         "layout": {
          "annotationdefaults": {
           "arrowcolor": "#2a3f5f",
           "arrowhead": 0,
           "arrowwidth": 1
          },
          "autotypenumbers": "strict",
          "coloraxis": {
           "colorbar": {
            "outlinewidth": 0,
            "ticks": ""
           }
          },
          "colorscale": {
           "diverging": [
            [
             0,
             "#8e0152"
            ],
            [
             0.1,
             "#c51b7d"
            ],
            [
             0.2,
             "#de77ae"
            ],
            [
             0.3,
             "#f1b6da"
            ],
            [
             0.4,
             "#fde0ef"
            ],
            [
             0.5,
             "#f7f7f7"
            ],
            [
             0.6,
             "#e6f5d0"
            ],
            [
             0.7,
             "#b8e186"
            ],
            [
             0.8,
             "#7fbc41"
            ],
            [
             0.9,
             "#4d9221"
            ],
            [
             1,
             "#276419"
            ]
           ],
           "sequential": [
            [
             0,
             "#0d0887"
            ],
            [
             0.1111111111111111,
             "#46039f"
            ],
            [
             0.2222222222222222,
             "#7201a8"
            ],
            [
             0.3333333333333333,
             "#9c179e"
            ],
            [
             0.4444444444444444,
             "#bd3786"
            ],
            [
             0.5555555555555556,
             "#d8576b"
            ],
            [
             0.6666666666666666,
             "#ed7953"
            ],
            [
             0.7777777777777778,
             "#fb9f3a"
            ],
            [
             0.8888888888888888,
             "#fdca26"
            ],
            [
             1,
             "#f0f921"
            ]
           ],
           "sequentialminus": [
            [
             0,
             "#0d0887"
            ],
            [
             0.1111111111111111,
             "#46039f"
            ],
            [
             0.2222222222222222,
             "#7201a8"
            ],
            [
             0.3333333333333333,
             "#9c179e"
            ],
            [
             0.4444444444444444,
             "#bd3786"
            ],
            [
             0.5555555555555556,
             "#d8576b"
            ],
            [
             0.6666666666666666,
             "#ed7953"
            ],
            [
             0.7777777777777778,
             "#fb9f3a"
            ],
            [
             0.8888888888888888,
             "#fdca26"
            ],
            [
             1,
             "#f0f921"
            ]
           ]
          },
          "colorway": [
           "#636efa",
           "#EF553B",
           "#00cc96",
           "#ab63fa",
           "#FFA15A",
           "#19d3f3",
           "#FF6692",
           "#B6E880",
           "#FF97FF",
           "#FECB52"
          ],
          "font": {
           "color": "#2a3f5f"
          },
          "geo": {
           "bgcolor": "white",
           "lakecolor": "white",
           "landcolor": "#E5ECF6",
           "showlakes": true,
           "showland": true,
           "subunitcolor": "white"
          },
          "hoverlabel": {
           "align": "left"
          },
          "hovermode": "closest",
          "mapbox": {
           "style": "light"
          },
          "paper_bgcolor": "white",
          "plot_bgcolor": "#E5ECF6",
          "polar": {
           "angularaxis": {
            "gridcolor": "white",
            "linecolor": "white",
            "ticks": ""
           },
           "bgcolor": "#E5ECF6",
           "radialaxis": {
            "gridcolor": "white",
            "linecolor": "white",
            "ticks": ""
           }
          },
          "scene": {
           "xaxis": {
            "backgroundcolor": "#E5ECF6",
            "gridcolor": "white",
            "gridwidth": 2,
            "linecolor": "white",
            "showbackground": true,
            "ticks": "",
            "zerolinecolor": "white"
           },
           "yaxis": {
            "backgroundcolor": "#E5ECF6",
            "gridcolor": "white",
            "gridwidth": 2,
            "linecolor": "white",
            "showbackground": true,
            "ticks": "",
            "zerolinecolor": "white"
           },
           "zaxis": {
            "backgroundcolor": "#E5ECF6",
            "gridcolor": "white",
            "gridwidth": 2,
            "linecolor": "white",
            "showbackground": true,
            "ticks": "",
            "zerolinecolor": "white"
           }
          },
          "shapedefaults": {
           "line": {
            "color": "#2a3f5f"
           }
          },
          "ternary": {
           "aaxis": {
            "gridcolor": "white",
            "linecolor": "white",
            "ticks": ""
           },
           "baxis": {
            "gridcolor": "white",
            "linecolor": "white",
            "ticks": ""
           },
           "bgcolor": "#E5ECF6",
           "caxis": {
            "gridcolor": "white",
            "linecolor": "white",
            "ticks": ""
           }
          },
          "title": {
           "x": 0.05
          },
          "xaxis": {
           "automargin": true,
           "gridcolor": "white",
           "linecolor": "white",
           "ticks": "",
           "title": {
            "standoff": 15
           },
           "zerolinecolor": "white",
           "zerolinewidth": 2
          },
          "yaxis": {
           "automargin": true,
           "gridcolor": "white",
           "linecolor": "white",
           "ticks": "",
           "title": {
            "standoff": 15
           },
           "zerolinecolor": "white",
           "zerolinewidth": 2
          }
         }
        },
        "title": {
         "text": "Number of Reviews per State"
        },
        "xaxis": {
         "anchor": "y",
         "domain": [
          0,
          1
         ],
         "title": {
          "text": "State"
         }
        },
        "yaxis": {
         "anchor": "x",
         "domain": [
          0,
          1
         ],
         "title": {
          "text": "Count"
         }
        }
       }
      }
     },
     "metadata": {},
     "output_type": "display_data"
    }
   ],
   "source": [
    "import plotly.express as px\n",
    "\n",
    "# Count the number of reviews for each state\n",
    "state_counts = df['state'].value_counts()\n",
    "\n",
    "# Create a DataFrame for the plot\n",
    "plot_df = pd.DataFrame({\n",
    "    'State': state_counts.index,\n",
    "    'Count': state_counts.values\n",
    "})\n",
    "\n",
    "# Create the Plotly figure\n",
    "fig = px.bar(plot_df, x='State', y='Count', title='Number of Reviews per State')\n",
    "\n",
    "# Show the figure\n",
    "fig.show()\n"
   ]
  },
  {
   "cell_type": "code",
   "execution_count": 264,
   "metadata": {},
   "outputs": [
    {
     "data": {
      "text/html": [
       "<div>\n",
       "<style scoped>\n",
       "    .dataframe tbody tr th:only-of-type {\n",
       "        vertical-align: middle;\n",
       "    }\n",
       "\n",
       "    .dataframe tbody tr th {\n",
       "        vertical-align: top;\n",
       "    }\n",
       "\n",
       "    .dataframe thead th {\n",
       "        text-align: right;\n",
       "    }\n",
       "</style>\n",
       "<table border=\"1\" class=\"dataframe\">\n",
       "  <thead>\n",
       "    <tr style=\"text-align: right;\">\n",
       "      <th></th>\n",
       "      <th>stars</th>\n",
       "      <th>business_id</th>\n",
       "      <th>user_id</th>\n",
       "    </tr>\n",
       "  </thead>\n",
       "  <tbody>\n",
       "    <tr>\n",
       "      <th>count</th>\n",
       "      <td>330645.000000</td>\n",
       "      <td>330645.000000</td>\n",
       "      <td>330645.000000</td>\n",
       "    </tr>\n",
       "    <tr>\n",
       "      <th>mean</th>\n",
       "      <td>3.849422</td>\n",
       "      <td>9221.166311</td>\n",
       "      <td>2464.793585</td>\n",
       "    </tr>\n",
       "    <tr>\n",
       "      <th>std</th>\n",
       "      <td>1.023196</td>\n",
       "      <td>5341.890172</td>\n",
       "      <td>1454.204536</td>\n",
       "    </tr>\n",
       "    <tr>\n",
       "      <th>min</th>\n",
       "      <td>1.000000</td>\n",
       "      <td>0.000000</td>\n",
       "      <td>0.000000</td>\n",
       "    </tr>\n",
       "    <tr>\n",
       "      <th>25%</th>\n",
       "      <td>3.000000</td>\n",
       "      <td>4610.000000</td>\n",
       "      <td>1210.000000</td>\n",
       "    </tr>\n",
       "    <tr>\n",
       "      <th>50%</th>\n",
       "      <td>4.000000</td>\n",
       "      <td>9172.000000</td>\n",
       "      <td>2458.000000</td>\n",
       "    </tr>\n",
       "    <tr>\n",
       "      <th>75%</th>\n",
       "      <td>5.000000</td>\n",
       "      <td>13795.000000</td>\n",
       "      <td>3736.000000</td>\n",
       "    </tr>\n",
       "    <tr>\n",
       "      <th>max</th>\n",
       "      <td>5.000000</td>\n",
       "      <td>18572.000000</td>\n",
       "      <td>5001.000000</td>\n",
       "    </tr>\n",
       "  </tbody>\n",
       "</table>\n",
       "</div>"
      ],
      "text/plain": [
       "               stars    business_id        user_id\n",
       "count  330645.000000  330645.000000  330645.000000\n",
       "mean        3.849422    9221.166311    2464.793585\n",
       "std         1.023196    5341.890172    1454.204536\n",
       "min         1.000000       0.000000       0.000000\n",
       "25%         3.000000    4610.000000    1210.000000\n",
       "50%         4.000000    9172.000000    2458.000000\n",
       "75%         5.000000   13795.000000    3736.000000\n",
       "max         5.000000   18572.000000    5001.000000"
      ]
     },
     "execution_count": 264,
     "metadata": {},
     "output_type": "execute_result"
    }
   ],
   "source": [
    "df.describe()"
   ]
  },
  {
   "cell_type": "code",
   "execution_count": 94,
   "metadata": {},
   "outputs": [
    {
     "data": {
      "text/plain": [
       "stars           int64\n",
       "business_id     int16\n",
       "user_id         int16\n",
       "state          object\n",
       "dtype: object"
      ]
     },
     "execution_count": 94,
     "metadata": {},
     "output_type": "execute_result"
    }
   ],
   "source": [
    "df.dtypes"
   ]
  },
  {
   "attachments": {},
   "cell_type": "markdown",
   "metadata": {},
   "source": [
    "## 2.2 Data viz"
   ]
  },
  {
   "cell_type": "code",
   "execution_count": 174,
   "metadata": {},
   "outputs": [
    {
     "data": {
      "image/png": "[encoded data removed]",
      "text/plain": [
       "<Figure size 640x480 with 1 Axes>"
      ]
     },
     "metadata": {},
     "output_type": "display_data"
    }
   ],
   "source": [
    "# Count the occurrences of each rating value and sort by index\n",
    "rating_counts = df['stars'].value_counts().sort_index()\n",
    "\n",
    "# Calculate the mean rating\n",
    "mean_rating = df['stars'].mean()\n",
    "\n",
    "# Create a bar plot with the ratings ordered from 1 to 5\n",
    "rating_counts.plot(kind='bar', color='steelblue', alpha=0.8)\n",
    "\n",
    "# Set plot title and axis labels\n",
    "plt.title('Distribution of Ratings (Mean: {:.2f})'.format(mean_rating))\n",
    "plt.xlabel('Rating')\n",
    "plt.ylabel('Count')\n",
    "\n",
    "# Customize the x-axis ticks and labels\n",
    "plt.xticks(range(5), ['1', '2', '3', '4', '5'])\n",
    "\n",
    "# Remove the top and right spines\n",
    "plt.gca().spines['top'].set_visible(False)\n",
    "plt.gca().spines['right'].set_visible(False)\n",
    "\n",
    "# Display the plot\n",
    "plt.show()\n"
   ]
  },
  {
   "cell_type": "code",
   "execution_count": 184,
   "metadata": {},
   "outputs": [
    {
     "name": "stdout",
     "output_type": "stream",
     "text": [
      "Correlations for df:\n",
      "user_id        0.013394\n",
      "business_id    0.004184\n",
      "\n",
      "Correlations for FL:\n",
      "user_id        0.028756\n",
      "business_id    0.003793\n",
      "\n",
      "Correlations for PA:\n",
      "user_id       -0.016660\n",
      "business_id    0.006196\n",
      "\n",
      "Correlations for All:\n",
      "user_id        0.009971\n",
      "business_id    0.003007\n",
      "\n"
     ]
    }
   ],
   "source": [
    "correlations = {}\n",
    "\n",
    "# Calculate correlations for df\n",
    "df_corr = df[['stars', 'user_id', 'business_id']].corr()\n",
    "correlations['df'] = df_corr.loc['stars', ['user_id', 'business_id']]\n",
    "\n",
    "# Calculate correlations for each state dataset\n",
    "for state in dfs:\n",
    "    state_corr = dfs[state][['stars', 'user_id', 'business_id']].corr()\n",
    "    correlations[state] = state_corr.loc['stars', ['user_id', 'business_id']]\n",
    "\n",
    "# Print the correlations\n",
    "for dataset, corr in correlations.items():\n",
    "    print(f\"Correlations for {dataset}:\")\n",
    "    print(corr.to_string())\n",
    "    print()\n",
    "\n"
   ]
  },
  {
   "attachments": {},
   "cell_type": "markdown",
   "metadata": {},
   "source": [
    "This code provides the correlation coefficients between user_id and business_id for four different datasets: df, FL, PA, and All.\n",
    "\n",
    "Correlation coefficients range from -1 to 1. A positive correlation implies that as one variable increases, the other also increases. A negative correlation implies that as one variable increases, the other decreases.\n",
    "\n",
    "In this case:\n",
    "\n",
    "For the \"df\" dataset, both user_id and business_id have a positive correlation, meaning as the user_id increases, the business_id also tends to increase, and vice versa.\n",
    "For the \"FL\" dataset, both user_id and business_id also have a positive correlation.\n",
    "For the \"PA\" dataset, the correlation between user_id and business_id is negative, indicating that as the user_id increases, the business_id tends to decrease, and vice versa.\n",
    "For the \"All\" dataset, both user_id and business_id have a positive correlation.\n",
    "\n",
    "However, all these correlations are very close to 0, suggesting that there's almost no linear relationship between user_id and business_id in all four datasets."
   ]
  },
  {
   "attachments": {},
   "cell_type": "markdown",
   "metadata": {},
   "source": [
    "### Filtered dataframes"
   ]
  },
  {
   "attachments": {},
   "cell_type": "markdown",
   "metadata": {},
   "source": [
    "This code aims to create filtered dataframes based on different states ('FL', 'PA', 'All') from the original dataframe df. Here's an explanation of the code:\n",
    "\n",
    "The variable states is defined as a list containing the states of interest. It includes specific state codes ('FL', 'PA') and an 'All' option.\n",
    "\n",
    "An empty dictionary called dfs is initialized to store the resulting dataframes for each state.\n",
    "\n",
    "The code enters a loop that iterates over each state in states.\n",
    "\n",
    "For each state:\n",
    "\n",
    "If the state is 'All', the code creates a copy of the original dataframe df without filtering by state.\n",
    "If the state is not 'All', the code creates a copy of df filtered by the specific state using the condition df['state'] == state.\n",
    "The 'state' column is dropped from the filtered dataframe (df_state) using df_state.drop('state', axis=1).\n",
    "\n",
    "The code proceeds to sample users and businesses from df_state to reduce the size of the dataframe. It randomly selects 1000 unique users and 1000 unique businesses using np.random.choice() and filters df_state based on these selected users and businesses.\n",
    "\n",
    "The resulting filtered dataframe (df_state) is stored in the dfs dictionary, with the state code ('FL', 'PA', 'All') as the key.\n",
    "\n",
    "Finally, the code repeats the sampling process without filtering by state from the original dataframe df. It selects 1000 random users and 1000 random businesses from df and stores the resulting dataframe in df_all.\n",
    "\n",
    "In summary, this code filters the original dataframe df by specific states ('FL', 'PA') or keeps the entire dataframe ('All'). It then samples 1000 random users and 1000 random businesses from the filtered dataframes for each state or from the entire dataset, storing the resulting dataframes in the dfs dictionary."
   ]
  },
  {
   "cell_type": "code",
   "execution_count": 12,
   "metadata": {},
   "outputs": [],
   "source": [
    "states = ['FL', 'PA', \"All\"]  # define the states you're interested in\n",
    "\n",
    "# Prepare an empty dictionary to store the dataframes for each state\n",
    "dfs = {}\n",
    "\n",
    "for state in states:\n",
    "    # If the state is 'All', don't filter the dataframe by state\n",
    "    if state == 'All':\n",
    "        df_state = df.copy()\n",
    "    else:\n",
    "        df_state = df[df['state'] == state].copy()\n",
    "\n",
    "    # Drop the 'state' column\n",
    "    df_state = df_state.drop('state', axis=1)\n",
    "    \n",
    "    # Sample users and businesses\n",
    "    keep_users = np.random.choice(df_state['user_id'].unique(), size=1000, replace=False)\n",
    "    df_state = df_state[df_state['user_id'].isin(keep_users)]\n",
    "    keep_businesses = np.random.choice(df_state['business_id'].unique(), size=1000, replace=False)\n",
    "    df_state = df_state[df_state['business_id'].isin(keep_businesses)]\n",
    "    \n",
    "    # Store the resulting dataframe in the dictionary\n",
    "    dfs[state] = df_state\n"
   ]
  },
  {
   "attachments": {},
   "cell_type": "markdown",
   "metadata": {},
   "source": [
    "There are several reasons why balancing datasets is beneficial:\n",
    "\n",
    "Bias reduction: Unbalanced datasets can introduce bias into our analysis, as the model may favor the category with more data points. This might lead to skewed results, making the model's predictions less reliable for the minority category.\n",
    "\n",
    "Improved Model Performance: Many machine learning models perform best when the number of instances of each classes are roughly equal. If there are imbalanced data, the model tends to be influenced more by the majority class, reducing the overall model performance.\n",
    "\n",
    "Fair Comparison: When comparing two categories, it is ideal to have equal representation from both categories. This ensures that the comparisons made are fair and not impacted by the volume of data in each category.\n",
    "\n",
    "Reliable Metrics: When data is imbalanced, certain metrics like accuracy can be misleading. With balanced data, it's more reliable to interpret metrics like precision, recall, and F1-score, because these measures take into account both false positives and false negatives."
   ]
  },
  {
   "cell_type": "code",
   "execution_count": 96,
   "metadata": {},
   "outputs": [
    {
     "data": {
      "text/html": [
       "<div>\n",
       "<style scoped>\n",
       "    .dataframe tbody tr th:only-of-type {\n",
       "        vertical-align: middle;\n",
       "    }\n",
       "\n",
       "    .dataframe tbody tr th {\n",
       "        vertical-align: top;\n",
       "    }\n",
       "\n",
       "    .dataframe thead th {\n",
       "        text-align: right;\n",
       "    }\n",
       "</style>\n",
       "<table border=\"1\" class=\"dataframe\">\n",
       "  <thead>\n",
       "    <tr style=\"text-align: right;\">\n",
       "      <th></th>\n",
       "      <th>stars</th>\n",
       "      <th>business_id</th>\n",
       "      <th>user_id</th>\n",
       "    </tr>\n",
       "  </thead>\n",
       "  <tbody>\n",
       "    <tr>\n",
       "      <th>count</th>\n",
       "      <td>14846.000000</td>\n",
       "      <td>14846.000000</td>\n",
       "      <td>14846.000000</td>\n",
       "    </tr>\n",
       "    <tr>\n",
       "      <th>mean</th>\n",
       "      <td>3.877475</td>\n",
       "      <td>9365.896673</td>\n",
       "      <td>2577.821366</td>\n",
       "    </tr>\n",
       "    <tr>\n",
       "      <th>std</th>\n",
       "      <td>1.042645</td>\n",
       "      <td>5351.363610</td>\n",
       "      <td>1454.430011</td>\n",
       "    </tr>\n",
       "    <tr>\n",
       "      <th>min</th>\n",
       "      <td>1.000000</td>\n",
       "      <td>15.000000</td>\n",
       "      <td>0.000000</td>\n",
       "    </tr>\n",
       "    <tr>\n",
       "      <th>25%</th>\n",
       "      <td>3.000000</td>\n",
       "      <td>5004.000000</td>\n",
       "      <td>1472.000000</td>\n",
       "    </tr>\n",
       "    <tr>\n",
       "      <th>50%</th>\n",
       "      <td>4.000000</td>\n",
       "      <td>9105.000000</td>\n",
       "      <td>2506.000000</td>\n",
       "    </tr>\n",
       "    <tr>\n",
       "      <th>75%</th>\n",
       "      <td>5.000000</td>\n",
       "      <td>14241.000000</td>\n",
       "      <td>4021.000000</td>\n",
       "    </tr>\n",
       "    <tr>\n",
       "      <th>max</th>\n",
       "      <td>5.000000</td>\n",
       "      <td>18556.000000</td>\n",
       "      <td>4989.000000</td>\n",
       "    </tr>\n",
       "  </tbody>\n",
       "</table>\n",
       "</div>"
      ],
      "text/plain": [
       "              stars   business_id       user_id\n",
       "count  14846.000000  14846.000000  14846.000000\n",
       "mean       3.877475   9365.896673   2577.821366\n",
       "std        1.042645   5351.363610   1454.430011\n",
       "min        1.000000     15.000000      0.000000\n",
       "25%        3.000000   5004.000000   1472.000000\n",
       "50%        4.000000   9105.000000   2506.000000\n",
       "75%        5.000000  14241.000000   4021.000000\n",
       "max        5.000000  18556.000000   4989.000000"
      ]
     },
     "execution_count": 96,
     "metadata": {},
     "output_type": "execute_result"
    }
   ],
   "source": [
    "dfs[\"FL\"].describe()"
   ]
  },
  {
   "cell_type": "code",
   "execution_count": 97,
   "metadata": {},
   "outputs": [
    {
     "data": {
      "text/html": [
       "<div>\n",
       "<style scoped>\n",
       "    .dataframe tbody tr th:only-of-type {\n",
       "        vertical-align: middle;\n",
       "    }\n",
       "\n",
       "    .dataframe tbody tr th {\n",
       "        vertical-align: top;\n",
       "    }\n",
       "\n",
       "    .dataframe thead th {\n",
       "        text-align: right;\n",
       "    }\n",
       "</style>\n",
       "<table border=\"1\" class=\"dataframe\">\n",
       "  <thead>\n",
       "    <tr style=\"text-align: right;\">\n",
       "      <th></th>\n",
       "      <th>stars</th>\n",
       "      <th>business_id</th>\n",
       "      <th>user_id</th>\n",
       "    </tr>\n",
       "  </thead>\n",
       "  <tbody>\n",
       "    <tr>\n",
       "      <th>count</th>\n",
       "      <td>13016.000000</td>\n",
       "      <td>13016.000000</td>\n",
       "      <td>13016.000000</td>\n",
       "    </tr>\n",
       "    <tr>\n",
       "      <th>mean</th>\n",
       "      <td>3.792333</td>\n",
       "      <td>8957.114859</td>\n",
       "      <td>2380.210049</td>\n",
       "    </tr>\n",
       "    <tr>\n",
       "      <th>std</th>\n",
       "      <td>1.015957</td>\n",
       "      <td>5196.184097</td>\n",
       "      <td>1412.041451</td>\n",
       "    </tr>\n",
       "    <tr>\n",
       "      <th>min</th>\n",
       "      <td>1.000000</td>\n",
       "      <td>1.000000</td>\n",
       "      <td>19.000000</td>\n",
       "    </tr>\n",
       "    <tr>\n",
       "      <th>25%</th>\n",
       "      <td>3.000000</td>\n",
       "      <td>4546.000000</td>\n",
       "      <td>1148.000000</td>\n",
       "    </tr>\n",
       "    <tr>\n",
       "      <th>50%</th>\n",
       "      <td>4.000000</td>\n",
       "      <td>8679.000000</td>\n",
       "      <td>2292.000000</td>\n",
       "    </tr>\n",
       "    <tr>\n",
       "      <th>75%</th>\n",
       "      <td>5.000000</td>\n",
       "      <td>13577.000000</td>\n",
       "      <td>3545.000000</td>\n",
       "    </tr>\n",
       "    <tr>\n",
       "      <th>max</th>\n",
       "      <td>5.000000</td>\n",
       "      <td>18560.000000</td>\n",
       "      <td>5000.000000</td>\n",
       "    </tr>\n",
       "  </tbody>\n",
       "</table>\n",
       "</div>"
      ],
      "text/plain": [
       "              stars   business_id       user_id\n",
       "count  13016.000000  13016.000000  13016.000000\n",
       "mean       3.792333   8957.114859   2380.210049\n",
       "std        1.015957   5196.184097   1412.041451\n",
       "min        1.000000      1.000000     19.000000\n",
       "25%        3.000000   4546.000000   1148.000000\n",
       "50%        4.000000   8679.000000   2292.000000\n",
       "75%        5.000000  13577.000000   3545.000000\n",
       "max        5.000000  18560.000000   5000.000000"
      ]
     },
     "execution_count": 97,
     "metadata": {},
     "output_type": "execute_result"
    }
   ],
   "source": [
    "dfs[\"PA\"].describe()"
   ]
  },
  {
   "cell_type": "code",
   "execution_count": 178,
   "metadata": {},
   "outputs": [
    {
     "data": {
      "text/html": [
       "<div>\n",
       "<style scoped>\n",
       "    .dataframe tbody tr th:only-of-type {\n",
       "        vertical-align: middle;\n",
       "    }\n",
       "\n",
       "    .dataframe tbody tr th {\n",
       "        vertical-align: top;\n",
       "    }\n",
       "\n",
       "    .dataframe thead th {\n",
       "        text-align: right;\n",
       "    }\n",
       "</style>\n",
       "<table border=\"1\" class=\"dataframe\">\n",
       "  <thead>\n",
       "    <tr style=\"text-align: right;\">\n",
       "      <th></th>\n",
       "      <th>stars</th>\n",
       "      <th>business_id</th>\n",
       "      <th>user_id</th>\n",
       "    </tr>\n",
       "  </thead>\n",
       "  <tbody>\n",
       "    <tr>\n",
       "      <th>count</th>\n",
       "      <td>4225.000000</td>\n",
       "      <td>4225.000000</td>\n",
       "      <td>4225.000000</td>\n",
       "    </tr>\n",
       "    <tr>\n",
       "      <th>mean</th>\n",
       "      <td>3.857515</td>\n",
       "      <td>9419.056331</td>\n",
       "      <td>2482.637870</td>\n",
       "    </tr>\n",
       "    <tr>\n",
       "      <th>std</th>\n",
       "      <td>1.014365</td>\n",
       "      <td>5233.249213</td>\n",
       "      <td>1465.590165</td>\n",
       "    </tr>\n",
       "    <tr>\n",
       "      <th>min</th>\n",
       "      <td>1.000000</td>\n",
       "      <td>9.000000</td>\n",
       "      <td>2.000000</td>\n",
       "    </tr>\n",
       "    <tr>\n",
       "      <th>25%</th>\n",
       "      <td>3.000000</td>\n",
       "      <td>4560.000000</td>\n",
       "      <td>1164.000000</td>\n",
       "    </tr>\n",
       "    <tr>\n",
       "      <th>50%</th>\n",
       "      <td>4.000000</td>\n",
       "      <td>9846.000000</td>\n",
       "      <td>2531.000000</td>\n",
       "    </tr>\n",
       "    <tr>\n",
       "      <th>75%</th>\n",
       "      <td>5.000000</td>\n",
       "      <td>14008.000000</td>\n",
       "      <td>3786.000000</td>\n",
       "    </tr>\n",
       "    <tr>\n",
       "      <th>max</th>\n",
       "      <td>5.000000</td>\n",
       "      <td>18565.000000</td>\n",
       "      <td>4997.000000</td>\n",
       "    </tr>\n",
       "  </tbody>\n",
       "</table>\n",
       "</div>"
      ],
      "text/plain": [
       "             stars   business_id      user_id\n",
       "count  4225.000000   4225.000000  4225.000000\n",
       "mean      3.857515   9419.056331  2482.637870\n",
       "std       1.014365   5233.249213  1465.590165\n",
       "min       1.000000      9.000000     2.000000\n",
       "25%       3.000000   4560.000000  1164.000000\n",
       "50%       4.000000   9846.000000  2531.000000\n",
       "75%       5.000000  14008.000000  3786.000000\n",
       "max       5.000000  18565.000000  4997.000000"
      ]
     },
     "execution_count": 178,
     "metadata": {},
     "output_type": "execute_result"
    }
   ],
   "source": [
    "dfs[\"All\"].describe()"
   ]
  },
  {
   "cell_type": "code",
   "execution_count": 17,
   "metadata": {},
   "outputs": [
    {
     "data": {
      "image/png": "[encoded data removed]",
      "text/plain": [
       "<Figure size 800x900 with 6 Axes>"
      ]
     },
     "metadata": {},
     "output_type": "display_data"
    }
   ],
   "source": [
    "states = ['FL', 'PA', 'All']\n",
    "\n",
    "fig, axes = plt.subplots(nrows=len(states), ncols=2, figsize=(8, 3*len(states)), constrained_layout=True)\n",
    "\n",
    "for i, state in enumerate(states):\n",
    "    df_state = dfs[state]\n",
    "\n",
    "    # Plot the distribution of star ratings for the current state\n",
    "    sns.histplot(df_state['stars'], bins=5, ax=axes[i, 0], color='skyblue', kde=False)\n",
    "    axes[i, 0].set_title(f'Star Ratings Distribution for Restaurants in {state}', fontsize=14)\n",
    "    axes[i, 0].spines['right'].set_visible(False)\n",
    "    axes[i, 0].spines['top'].set_visible(False)\n",
    "    axes[i, 0].set_xticks(range(1, 6))\n",
    "    axes[i, 0].set_xlabel('Star Rating')\n",
    "    axes[i, 0].set_ylabel('Count')\n",
    "\n",
    "    # Count the number of ratings per restaurant for the current state\n",
    "    no_of_ratings_per_restaurant = df_state.groupby(by=\"business_id\")[\"stars\"].count().sort_values(ascending=False)\n",
    "\n",
    "    # Plot the number of ratings per restaurant for the current state\n",
    "    axes[i, 1].plot(no_of_ratings_per_restaurant.values)\n",
    "    axes[i, 1].set_title(f'# RATINGS per Restaurant in {state}', fontsize=14)\n",
    "    axes[i, 1].spines['right'].set_visible(False)\n",
    "    axes[i, 1].spines['top'].set_visible(False)\n",
    "    axes[i, 1].set_xlabel('Restaurant')\n",
    "    axes[i, 1].set_ylabel('No of Users who rated a restaurant')\n",
    "    axes[i, 1].set_xticklabels([])\n",
    "\n",
    "plt.show()\n"
   ]
  },
  {
   "attachments": {},
   "cell_type": "markdown",
   "metadata": {},
   "source": [
    "This code generates subplots with histograms showing the distribution of star ratings for restaurants in the states of Florida (FL), Pennsylvania (PA), and the overall dataset (All). It also plots the number of ratings per restaurant for each state. The code uses seaborn and matplotlib libraries to create the visualizations, sets the plot aesthetics, and provides labels for better understanding of the data."
   ]
  },
  {
   "attachments": {},
   "cell_type": "markdown",
   "metadata": {},
   "source": [
    "### 2.3 Train/Validation/Testset Splitting"
   ]
  },
  {
   "attachments": {},
   "cell_type": "markdown",
   "metadata": {},
   "source": [
    "### Creating Training and Testing Datasets\n",
    "This code demonstrates the process of splitting a subset of the dataset into training and testing sets, transforming the data into a suitable format for collaborative filtering, and converting the data to a sparse matrix."
   ]
  },
  {
   "attachments": {},
   "cell_type": "markdown",
   "metadata": {},
   "source": [
    "#### All restaurants"
   ]
  },
  {
   "cell_type": "code",
   "execution_count": 228,
   "metadata": {},
   "outputs": [],
   "source": [
    "# Split the dataset subset into training and testing sets\n",
    "train_df_restaurant, test_df_restaurant = train_test_split(dfs[\"All\"], test_size=0.2, random_state=42)\n",
    "\n",
    "# Transform the training set into a pivot table with 'user_id' as index, 'business_id' as columns, and 'stars' as values\n",
    "user_matrix_restaurant = train_df_restaurant.pivot_table(index='user_id', columns='business_id', values='stars').fillna(0)\n",
    "\n",
    "# Convert the pivot table to a sparse matrix using the Compressed Sparse Row (CSR) format\n",
    "Train_sparse_matrix_restaurant = csr_matrix(user_matrix_restaurant.values)\n"
   ]
  },
  {
   "attachments": {},
   "cell_type": "markdown",
   "metadata": {},
   "source": [
    "#### Florida restaurants"
   ]
  },
  {
   "cell_type": "code",
   "execution_count": 101,
   "metadata": {},
   "outputs": [],
   "source": [
    "# Split the dataset subset into training and testing sets\n",
    "train_df_restaurant_fl, test_df_restaurant_fl = train_test_split(dfs[\"FL\"], test_size=0.2, random_state=42)\n",
    "\n",
    "# Transform the training set into a pivot table with 'user_id' as index, 'business_id' as columns, and 'stars' as values\n",
    "user_matrix_restaurant_fl = train_df_restaurant_fl.pivot_table(index='user_id', columns='business_id', values='stars').fillna(0)\n",
    "\n",
    "# Convert the pivot table to a sparse matrix using the Compressed Sparse Row (CSR) format\n",
    "Train_sparse_matrix_restaurant_fl = csr_matrix(user_matrix_restaurant_fl.values)"
   ]
  },
  {
   "attachments": {},
   "cell_type": "markdown",
   "metadata": {},
   "source": [
    "#### Philadelphia restaurants"
   ]
  },
  {
   "cell_type": "code",
   "execution_count": 102,
   "metadata": {},
   "outputs": [],
   "source": [
    "# Split the dataset subset into training and testing sets\n",
    "train_df_restaurant_pa, test_df_restaurant_pa = train_test_split(dfs[\"PA\"], test_size=0.2, random_state=42)\n",
    "\n",
    "# Transform the training set into a pivot table with 'user_id' as index, 'business_id' as columns, and 'stars' as values\n",
    "user_matrix_restaurant_pa = train_df_restaurant_pa.pivot_table(index='user_id', columns='business_id', values='stars').fillna(0)\n",
    "\n",
    "# Convert the pivot table to a sparse matrix using the Compressed Sparse Row (CSR) format\n",
    "Train_sparse_matrix_restaurant_pa = csr_matrix(user_matrix_restaurant_pa.values)\n"
   ]
  },
  {
   "attachments": {},
   "cell_type": "markdown",
   "metadata": {},
   "source": [
    "# 3. *Sub Questions*"
   ]
  },
  {
   "attachments": {},
   "cell_type": "markdown",
   "metadata": {},
   "source": [
    "## Sub question 2: How differ Restaurants in different states in terms of cosine similarity?"
   ]
  },
  {
   "cell_type": "code",
   "execution_count": 256,
   "metadata": {},
   "outputs": [],
   "source": [
    "# Function to perform a random query and return the average distance\n",
    "def perform_random_query(model, user_matrix):\n",
    "    random_index = np.random.randint(user_matrix.shape[0])\n",
    "    knn_distances, _ = model.kneighbors(user_matrix.iloc[random_index,:].values.reshape(1, -1))\n",
    "    return np.mean(knn_distances)\n",
    "\n",
    "# Function to perform multiple queries and return the average and standard deviation of distances\n",
    "def evaluate_model(model, user_matrix, total_queries=1000):\n",
    "    distances = [perform_random_query(model, user_matrix) for _ in range(total_queries)]\n",
    "    return np.mean(distances), np.std(distances)\n"
   ]
  },
  {
   "attachments": {},
   "cell_type": "markdown",
   "metadata": {},
   "source": [
    "### All restaurants"
   ]
  },
  {
   "cell_type": "code",
   "execution_count": 233,
   "metadata": {},
   "outputs": [
    {
     "data": {
      "text/html": [
       "<style>#sk-container-id-6 {color: black;background-color: white;}#sk-container-id-6 pre{padding: 0;}#sk-container-id-6 div.sk-toggleable {background-color: white;}#sk-container-id-6 label.sk-toggleable__label {cursor: pointer;display: block;width: 100%;margin-bottom: 0;padding: 0.3em;box-sizing: border-box;text-align: center;}#sk-container-id-6 label.sk-toggleable__label-arrow:before {content: \"▸\";float: left;margin-right: 0.25em;color: #696969;}#sk-container-id-6 label.sk-toggleable__label-arrow:hover:before {color: black;}#sk-container-id-6 div.sk-estimator:hover label.sk-toggleable__label-arrow:before {color: black;}#sk-container-id-6 div.sk-toggleable__content {max-height: 0;max-width: 0;overflow: hidden;text-align: left;background-color: #f0f8ff;}#sk-container-id-6 div.sk-toggleable__content pre {margin: 0.2em;color: black;border-radius: 0.25em;background-color: #f0f8ff;}#sk-container-id-6 input.sk-toggleable__control:checked~div.sk-toggleable__content {max-height: 200px;max-width: 100%;overflow: auto;}#sk-container-id-6 input.sk-toggleable__control:checked~label.sk-toggleable__label-arrow:before {content: \"▾\";}#sk-container-id-6 div.sk-estimator input.sk-toggleable__control:checked~label.sk-toggleable__label {background-color: #d4ebff;}#sk-container-id-6 div.sk-label input.sk-toggleable__control:checked~label.sk-toggleable__label {background-color: #d4ebff;}#sk-container-id-6 input.sk-hidden--visually {border: 0;clip: rect(1px 1px 1px 1px);clip: rect(1px, 1px, 1px, 1px);height: 1px;margin: -1px;overflow: hidden;padding: 0;position: absolute;width: 1px;}#sk-container-id-6 div.sk-estimator {font-family: monospace;background-color: #f0f8ff;border: 1px dotted black;border-radius: 0.25em;box-sizing: border-box;margin-bottom: 0.5em;}#sk-container-id-6 div.sk-estimator:hover {background-color: #d4ebff;}#sk-container-id-6 div.sk-parallel-item::after {content: \"\";width: 100%;border-bottom: 1px solid gray;flex-grow: 1;}#sk-container-id-6 div.sk-label:hover label.sk-toggleable__label {background-color: #d4ebff;}#sk-container-id-6 div.sk-serial::before {content: \"\";position: absolute;border-left: 1px solid gray;box-sizing: border-box;top: 0;bottom: 0;left: 50%;z-index: 0;}#sk-container-id-6 div.sk-serial {display: flex;flex-direction: column;align-items: center;background-color: white;padding-right: 0.2em;padding-left: 0.2em;position: relative;}#sk-container-id-6 div.sk-item {position: relative;z-index: 1;}#sk-container-id-6 div.sk-parallel {display: flex;align-items: stretch;justify-content: center;background-color: white;position: relative;}#sk-container-id-6 div.sk-item::before, #sk-container-id-6 div.sk-parallel-item::before {content: \"\";position: absolute;border-left: 1px solid gray;box-sizing: border-box;top: 0;bottom: 0;left: 50%;z-index: -1;}#sk-container-id-6 div.sk-parallel-item {display: flex;flex-direction: column;z-index: 1;position: relative;background-color: white;}#sk-container-id-6 div.sk-parallel-item:first-child::after {align-self: flex-end;width: 50%;}#sk-container-id-6 div.sk-parallel-item:last-child::after {align-self: flex-start;width: 50%;}#sk-container-id-6 div.sk-parallel-item:only-child::after {width: 0;}#sk-container-id-6 div.sk-dashed-wrapped {border: 1px dashed gray;margin: 0 0.4em 0.5em 0.4em;box-sizing: border-box;padding-bottom: 0.4em;background-color: white;}#sk-container-id-6 div.sk-label label {font-family: monospace;font-weight: bold;display: inline-block;line-height: 1.2em;}#sk-container-id-6 div.sk-label-container {text-align: center;}#sk-container-id-6 div.sk-container {/* jupyter's `normalize.less` sets `[hidden] { display: none; }` but bootstrap.min.css set `[hidden] { display: none !important; }` so we also need the `!important` here to be able to override the default hidden behavior on the sphinx rendered scikit-learn.org. See: https://github.com/scikit-learn/scikit-learn/issues/21755 */display: inline-block !important;position: relative;}#sk-container-id-6 div.sk-text-repr-fallback {display: none;}</style><div id=\"sk-container-id-6\" class=\"sk-top-container\"><div class=\"sk-text-repr-fallback\"><pre>NearestNeighbors(algorithm=&#x27;brute&#x27;, metric=&#x27;cosine&#x27;, n_jobs=-1, n_neighbors=30)</pre><b>In a Jupyter environment, please rerun this cell to show the HTML representation or trust the notebook. <br />On GitHub, the HTML representation is unable to render, please try loading this page with nbviewer.org.</b></div><div class=\"sk-container\" hidden><div class=\"sk-item\"><div class=\"sk-estimator sk-toggleable\"><input class=\"sk-toggleable__control sk-hidden--visually\" id=\"sk-estimator-id-6\" type=\"checkbox\" checked><label for=\"sk-estimator-id-6\" class=\"sk-toggleable__label sk-toggleable__label-arrow\">NearestNeighbors</label><div class=\"sk-toggleable__content\"><pre>NearestNeighbors(algorithm=&#x27;brute&#x27;, metric=&#x27;cosine&#x27;, n_jobs=-1, n_neighbors=30)</pre></div></div></div></div></div>"
      ],
      "text/plain": [
       "NearestNeighbors(algorithm='brute', metric='cosine', n_jobs=-1, n_neighbors=30)"
      ]
     },
     "execution_count": 233,
     "metadata": {},
     "output_type": "execute_result"
    }
   ],
   "source": [
    "from sklearn.neighbors import NearestNeighbors\n",
    "\n",
    "# Create an instance of NearestNeighbors with the desired parameters\n",
    "knn_restaurant = NearestNeighbors(metric='cosine', algorithm='brute', n_neighbors=30, n_jobs=-1)\n",
    "\n",
    "# Fit the model on the restaurant sparse matrix\n",
    "knn_restaurant.fit(Train_sparse_matrix_restaurant)\n"
   ]
  },
  {
   "attachments": {},
   "cell_type": "markdown",
   "metadata": {},
   "source": [
    "### Philadelphia"
   ]
  },
  {
   "cell_type": "code",
   "execution_count": 234,
   "metadata": {},
   "outputs": [
    {
     "data": {
      "text/html": [
       "<style>#sk-container-id-7 {color: black;background-color: white;}#sk-container-id-7 pre{padding: 0;}#sk-container-id-7 div.sk-toggleable {background-color: white;}#sk-container-id-7 label.sk-toggleable__label {cursor: pointer;display: block;width: 100%;margin-bottom: 0;padding: 0.3em;box-sizing: border-box;text-align: center;}#sk-container-id-7 label.sk-toggleable__label-arrow:before {content: \"▸\";float: left;margin-right: 0.25em;color: #696969;}#sk-container-id-7 label.sk-toggleable__label-arrow:hover:before {color: black;}#sk-container-id-7 div.sk-estimator:hover label.sk-toggleable__label-arrow:before {color: black;}#sk-container-id-7 div.sk-toggleable__content {max-height: 0;max-width: 0;overflow: hidden;text-align: left;background-color: #f0f8ff;}#sk-container-id-7 div.sk-toggleable__content pre {margin: 0.2em;color: black;border-radius: 0.25em;background-color: #f0f8ff;}#sk-container-id-7 input.sk-toggleable__control:checked~div.sk-toggleable__content {max-height: 200px;max-width: 100%;overflow: auto;}#sk-container-id-7 input.sk-toggleable__control:checked~label.sk-toggleable__label-arrow:before {content: \"▾\";}#sk-container-id-7 div.sk-estimator input.sk-toggleable__control:checked~label.sk-toggleable__label {background-color: #d4ebff;}#sk-container-id-7 div.sk-label input.sk-toggleable__control:checked~label.sk-toggleable__label {background-color: #d4ebff;}#sk-container-id-7 input.sk-hidden--visually {border: 0;clip: rect(1px 1px 1px 1px);clip: rect(1px, 1px, 1px, 1px);height: 1px;margin: -1px;overflow: hidden;padding: 0;position: absolute;width: 1px;}#sk-container-id-7 div.sk-estimator {font-family: monospace;background-color: #f0f8ff;border: 1px dotted black;border-radius: 0.25em;box-sizing: border-box;margin-bottom: 0.5em;}#sk-container-id-7 div.sk-estimator:hover {background-color: #d4ebff;}#sk-container-id-7 div.sk-parallel-item::after {content: \"\";width: 100%;border-bottom: 1px solid gray;flex-grow: 1;}#sk-container-id-7 div.sk-label:hover label.sk-toggleable__label {background-color: #d4ebff;}#sk-container-id-7 div.sk-serial::before {content: \"\";position: absolute;border-left: 1px solid gray;box-sizing: border-box;top: 0;bottom: 0;left: 50%;z-index: 0;}#sk-container-id-7 div.sk-serial {display: flex;flex-direction: column;align-items: center;background-color: white;padding-right: 0.2em;padding-left: 0.2em;position: relative;}#sk-container-id-7 div.sk-item {position: relative;z-index: 1;}#sk-container-id-7 div.sk-parallel {display: flex;align-items: stretch;justify-content: center;background-color: white;position: relative;}#sk-container-id-7 div.sk-item::before, #sk-container-id-7 div.sk-parallel-item::before {content: \"\";position: absolute;border-left: 1px solid gray;box-sizing: border-box;top: 0;bottom: 0;left: 50%;z-index: -1;}#sk-container-id-7 div.sk-parallel-item {display: flex;flex-direction: column;z-index: 1;position: relative;background-color: white;}#sk-container-id-7 div.sk-parallel-item:first-child::after {align-self: flex-end;width: 50%;}#sk-container-id-7 div.sk-parallel-item:last-child::after {align-self: flex-start;width: 50%;}#sk-container-id-7 div.sk-parallel-item:only-child::after {width: 0;}#sk-container-id-7 div.sk-dashed-wrapped {border: 1px dashed gray;margin: 0 0.4em 0.5em 0.4em;box-sizing: border-box;padding-bottom: 0.4em;background-color: white;}#sk-container-id-7 div.sk-label label {font-family: monospace;font-weight: bold;display: inline-block;line-height: 1.2em;}#sk-container-id-7 div.sk-label-container {text-align: center;}#sk-container-id-7 div.sk-container {/* jupyter's `normalize.less` sets `[hidden] { display: none; }` but bootstrap.min.css set `[hidden] { display: none !important; }` so we also need the `!important` here to be able to override the default hidden behavior on the sphinx rendered scikit-learn.org. See: https://github.com/scikit-learn/scikit-learn/issues/21755 */display: inline-block !important;position: relative;}#sk-container-id-7 div.sk-text-repr-fallback {display: none;}</style><div id=\"sk-container-id-7\" class=\"sk-top-container\"><div class=\"sk-text-repr-fallback\"><pre>NearestNeighbors(algorithm=&#x27;brute&#x27;, metric=&#x27;cosine&#x27;, n_jobs=-1, n_neighbors=30)</pre><b>In a Jupyter environment, please rerun this cell to show the HTML representation or trust the notebook. <br />On GitHub, the HTML representation is unable to render, please try loading this page with nbviewer.org.</b></div><div class=\"sk-container\" hidden><div class=\"sk-item\"><div class=\"sk-estimator sk-toggleable\"><input class=\"sk-toggleable__control sk-hidden--visually\" id=\"sk-estimator-id-7\" type=\"checkbox\" checked><label for=\"sk-estimator-id-7\" class=\"sk-toggleable__label sk-toggleable__label-arrow\">NearestNeighbors</label><div class=\"sk-toggleable__content\"><pre>NearestNeighbors(algorithm=&#x27;brute&#x27;, metric=&#x27;cosine&#x27;, n_jobs=-1, n_neighbors=30)</pre></div></div></div></div></div>"
      ],
      "text/plain": [
       "NearestNeighbors(algorithm='brute', metric='cosine', n_jobs=-1, n_neighbors=30)"
      ]
     },
     "execution_count": 234,
     "metadata": {},
     "output_type": "execute_result"
    }
   ],
   "source": [
    "from sklearn.neighbors import NearestNeighbors\n",
    "\n",
    "# Create an instance of NearestNeighbors with the desired parameters\n",
    "knn_restaurant_pa = NearestNeighbors(metric='cosine', algorithm='brute', n_neighbors=30, n_jobs=-1)\n",
    "\n",
    "# Fit the model on the restaurant sparse matrix\n",
    "knn_restaurant_pa.fit(Train_sparse_matrix_restaurant_pa)\n"
   ]
  },
  {
   "attachments": {},
   "cell_type": "markdown",
   "metadata": {},
   "source": [
    "### Florida"
   ]
  },
  {
   "cell_type": "code",
   "execution_count": 235,
   "metadata": {},
   "outputs": [
    {
     "data": {
      "text/html": [
       "<style>#sk-container-id-8 {color: black;background-color: white;}#sk-container-id-8 pre{padding: 0;}#sk-container-id-8 div.sk-toggleable {background-color: white;}#sk-container-id-8 label.sk-toggleable__label {cursor: pointer;display: block;width: 100%;margin-bottom: 0;padding: 0.3em;box-sizing: border-box;text-align: center;}#sk-container-id-8 label.sk-toggleable__label-arrow:before {content: \"▸\";float: left;margin-right: 0.25em;color: #696969;}#sk-container-id-8 label.sk-toggleable__label-arrow:hover:before {color: black;}#sk-container-id-8 div.sk-estimator:hover label.sk-toggleable__label-arrow:before {color: black;}#sk-container-id-8 div.sk-toggleable__content {max-height: 0;max-width: 0;overflow: hidden;text-align: left;background-color: #f0f8ff;}#sk-container-id-8 div.sk-toggleable__content pre {margin: 0.2em;color: black;border-radius: 0.25em;background-color: #f0f8ff;}#sk-container-id-8 input.sk-toggleable__control:checked~div.sk-toggleable__content {max-height: 200px;max-width: 100%;overflow: auto;}#sk-container-id-8 input.sk-toggleable__control:checked~label.sk-toggleable__label-arrow:before {content: \"▾\";}#sk-container-id-8 div.sk-estimator input.sk-toggleable__control:checked~label.sk-toggleable__label {background-color: #d4ebff;}#sk-container-id-8 div.sk-label input.sk-toggleable__control:checked~label.sk-toggleable__label {background-color: #d4ebff;}#sk-container-id-8 input.sk-hidden--visually {border: 0;clip: rect(1px 1px 1px 1px);clip: rect(1px, 1px, 1px, 1px);height: 1px;margin: -1px;overflow: hidden;padding: 0;position: absolute;width: 1px;}#sk-container-id-8 div.sk-estimator {font-family: monospace;background-color: #f0f8ff;border: 1px dotted black;border-radius: 0.25em;box-sizing: border-box;margin-bottom: 0.5em;}#sk-container-id-8 div.sk-estimator:hover {background-color: #d4ebff;}#sk-container-id-8 div.sk-parallel-item::after {content: \"\";width: 100%;border-bottom: 1px solid gray;flex-grow: 1;}#sk-container-id-8 div.sk-label:hover label.sk-toggleable__label {background-color: #d4ebff;}#sk-container-id-8 div.sk-serial::before {content: \"\";position: absolute;border-left: 1px solid gray;box-sizing: border-box;top: 0;bottom: 0;left: 50%;z-index: 0;}#sk-container-id-8 div.sk-serial {display: flex;flex-direction: column;align-items: center;background-color: white;padding-right: 0.2em;padding-left: 0.2em;position: relative;}#sk-container-id-8 div.sk-item {position: relative;z-index: 1;}#sk-container-id-8 div.sk-parallel {display: flex;align-items: stretch;justify-content: center;background-color: white;position: relative;}#sk-container-id-8 div.sk-item::before, #sk-container-id-8 div.sk-parallel-item::before {content: \"\";position: absolute;border-left: 1px solid gray;box-sizing: border-box;top: 0;bottom: 0;left: 50%;z-index: -1;}#sk-container-id-8 div.sk-parallel-item {display: flex;flex-direction: column;z-index: 1;position: relative;background-color: white;}#sk-container-id-8 div.sk-parallel-item:first-child::after {align-self: flex-end;width: 50%;}#sk-container-id-8 div.sk-parallel-item:last-child::after {align-self: flex-start;width: 50%;}#sk-container-id-8 div.sk-parallel-item:only-child::after {width: 0;}#sk-container-id-8 div.sk-dashed-wrapped {border: 1px dashed gray;margin: 0 0.4em 0.5em 0.4em;box-sizing: border-box;padding-bottom: 0.4em;background-color: white;}#sk-container-id-8 div.sk-label label {font-family: monospace;font-weight: bold;display: inline-block;line-height: 1.2em;}#sk-container-id-8 div.sk-label-container {text-align: center;}#sk-container-id-8 div.sk-container {/* jupyter's `normalize.less` sets `[hidden] { display: none; }` but bootstrap.min.css set `[hidden] { display: none !important; }` so we also need the `!important` here to be able to override the default hidden behavior on the sphinx rendered scikit-learn.org. See: https://github.com/scikit-learn/scikit-learn/issues/21755 */display: inline-block !important;position: relative;}#sk-container-id-8 div.sk-text-repr-fallback {display: none;}</style><div id=\"sk-container-id-8\" class=\"sk-top-container\"><div class=\"sk-text-repr-fallback\"><pre>NearestNeighbors(algorithm=&#x27;brute&#x27;, metric=&#x27;cosine&#x27;, n_jobs=-1, n_neighbors=30)</pre><b>In a Jupyter environment, please rerun this cell to show the HTML representation or trust the notebook. <br />On GitHub, the HTML representation is unable to render, please try loading this page with nbviewer.org.</b></div><div class=\"sk-container\" hidden><div class=\"sk-item\"><div class=\"sk-estimator sk-toggleable\"><input class=\"sk-toggleable__control sk-hidden--visually\" id=\"sk-estimator-id-8\" type=\"checkbox\" checked><label for=\"sk-estimator-id-8\" class=\"sk-toggleable__label sk-toggleable__label-arrow\">NearestNeighbors</label><div class=\"sk-toggleable__content\"><pre>NearestNeighbors(algorithm=&#x27;brute&#x27;, metric=&#x27;cosine&#x27;, n_jobs=-1, n_neighbors=30)</pre></div></div></div></div></div>"
      ],
      "text/plain": [
       "NearestNeighbors(algorithm='brute', metric='cosine', n_jobs=-1, n_neighbors=30)"
      ]
     },
     "execution_count": 235,
     "metadata": {},
     "output_type": "execute_result"
    }
   ],
   "source": [
    "from sklearn.neighbors import NearestNeighbors\n",
    "\n",
    "# Create an instance of NearestNeighbors with the desired parameters\n",
    "knn_restaurant_fl = NearestNeighbors(metric='cosine', algorithm='brute', n_neighbors=30, n_jobs=-1)\n",
    "\n",
    "# Fit the model on the restaurant sparse matrix\n",
    "knn_restaurant_fl.fit(Train_sparse_matrix_restaurant_fl)\n"
   ]
  },
  {
   "attachments": {},
   "cell_type": "markdown",
   "metadata": {},
   "source": [
    "### Cosine similarities"
   ]
  },
  {
   "cell_type": "code",
   "execution_count": 236,
   "metadata": {},
   "outputs": [
    {
     "name": "stdout",
     "output_type": "stream",
     "text": [
      "Average k-NN distance for Restaurants in PA: 0.7285075542441648\n",
      "Standard deviation of k-NN distances for Restaurants in PA: 0.06321316523856904\n",
      "Average k-NN distance for Restaurants in FL: 0.7111317898142293\n",
      "Standard deviation of k-NN distances for Restaurants in FL: 0.0473418129919607\n",
      "Average k-NN distance for Restaurants in FL: 0.7670193906806867\n",
      "Standard deviation of k-NN distances for All Restaurants: 0.11769566514824059\n"
     ]
    }
   ],
   "source": [
    "# Create pivot tables for each state\n",
    "restaurant_matrix_PA = dfs['PA'].pivot_table(index='business_id', columns='user_id', values='stars').fillna(0)\n",
    "restaurant_matrix_FL = dfs['FL'].pivot_table(index='business_id', columns='user_id', values='stars').fillna(0)\n",
    "restaurant_matrix_All = dfs['All'].pivot_table(index='business_id', columns='user_id', values='stars').fillna(0)\n",
    "\n",
    "# Convert pivot tables to sparse matrices\n",
    "restaurant_sparse_matrix_PA = csr_matrix(restaurant_matrix_PA.values)\n",
    "restaurant_sparse_matrix_FL = csr_matrix(restaurant_matrix_FL.values)\n",
    "Train_sparse_matrix_restaurant = csr_matrix(restaurant_matrix_All.values)\n",
    "\n",
    "# Define NearestNeighbors models for each state\n",
    "knn_restaurant_PA = NearestNeighbors(metric='cosine', algorithm='brute', n_neighbors=30, n_jobs=-1)\n",
    "knn_restaurant_FL = NearestNeighbors(metric='cosine', algorithm='brute', n_neighbors=30, n_jobs=-1)\n",
    "knn_restaurant_All = NearestNeighbors(metric='cosine', algorithm='brute', n_neighbors=30, n_jobs=-1)\n",
    "\n",
    "# Fit the models on the sparse matrices\n",
    "knn_restaurant_PA.fit(restaurant_sparse_matrix_PA)\n",
    "knn_restaurant_FL.fit(restaurant_sparse_matrix_FL)\n",
    "knn_restaurant_All.fit(Train_sparse_matrix_restaurant)\n",
    "\n",
    "# Use the functions to evaluate the models\n",
    "average_distance_PA, standard_deviation_PA = evaluate_model(knn_restaurant_PA, restaurant_matrix_PA)\n",
    "average_distance_FL, standard_deviation_FL = evaluate_model(knn_restaurant_FL, restaurant_matrix_FL)\n",
    "average_distance_All, standard_deviation_All = evaluate_model(knn_restaurant, restaurant_matrix_All)\n",
    "\n",
    "\n",
    "# Print the results\n",
    "print(f\"Average k-NN distance for Restaurants in PA: {average_distance_PA}\")\n",
    "print(f\"Standard deviation of k-NN distances for Restaurants in PA: {standard_deviation_PA}\")\n",
    "print(f\"Average k-NN distance for Restaurants in FL: {average_distance_FL}\")\n",
    "print(f\"Standard deviation of k-NN distances for Restaurants in FL: {standard_deviation_FL}\")\n",
    "print(f\"Average k-NN distance for Restaurants in FL: {average_distance_All}\")\n",
    "print(f\"Standard deviation of k-NN distances for All Restaurants: {standard_deviation_All}\")"
   ]
  },
  {
   "attachments": {},
   "cell_type": "markdown",
   "metadata": {},
   "source": [
    "### Results \n",
    "\n",
    "Above results are related to the evaluation of k-Nearest Neighbors (k-NN) models that have been trained on restaurant data for three different areas: Pennsylvania (PA), Florida (FL), and all areas combined (All). The k-NN algorithm finds the 'k' closest points (or in this case, restaurants) to a given point, based on some distance metric (in this case, cosine distance).\n",
    "\n",
    "The evaluation metrics used are the average k-NN distance and the standard deviation of k-NN distances.\n",
    "\n",
    "The average k-NN distance is the mean of the distances between a restaurant and its 'k' nearest neighbors. This gives us a sense of how closely related, on average, each restaurant is to its nearest neighbors. A smaller average distance suggests that the restaurants are, on average, closely related to each other, according to the features used in the model.\n",
    "\n",
    "The standard deviation of k-NN distances gives us an idea of the variability in these distances. A high standard deviation means there is a large variability in how close the neighbors are for different restaurants. A low standard deviation suggests that the distances are more uniformly distributed, meaning that most restaurants have a similar degree of closeness to their neighbors.\n",
    "\n",
    "Here's what the results mean for each area:\n",
    "\n",
    "For restaurants in Pennsylvania (PA):\n",
    "\n",
    "The average distance to the closest restaurants is about 0.73. This is like saying, on average, the nearest restaurants are \"0.73 units of similarity\" away. The smaller this number, the more similar the restaurants are.\n",
    "The standard deviation, or the amount of variation, is 0.06. This means that while the average might be 0.73, some restaurants are closer or further away than that, but not by a lot.\n",
    "\n",
    "For restaurants in Florida (FL):\n",
    "\n",
    "The average distance to the closest restaurants is about 0.71, which is a bit smaller than in PA. This suggests that restaurants in Florida are, on average, slightly more similar to each other than those in Pennsylvania.\n",
    "The standard deviation is 0.047, which is smaller than in PA. This means the similarity between restaurants in Florida doesn't vary as much.\n",
    "\n",
    "For all restaurants in all areas:\n",
    "\n",
    "The average distance is 0.77, which is larger than in PA or FL. This means that restaurants from all areas are, on average, less similar to each other.\n",
    "The standard deviation is 0.12, which is higher than in PA or FL. This means there's more variation in the similarity between all restaurants.\n",
    "\n",
    "So, in simple terms, the results suggest that restaurants in the same state are more similar to each other than to restaurants in other states."
   ]
  },
  {
   "attachments": {},
   "cell_type": "markdown",
   "metadata": {},
   "source": [
    "## SQ3: How effectively can businesses be recommended using collaborative filtering via KNN?"
   ]
  },
  {
   "attachments": {},
   "cell_type": "markdown",
   "metadata": {},
   "source": [
    "USED SOURCES:\n",
    "\n",
    "harsh vijay (11 April 2020) Recommendation System using kNN [<source code>]. https://www.aurigait.com/blog/recommendation-system-using-knn/\n",
    "\n",
    "Jake Vanderplas (unknown date) 1.6. Nearest Neighbors\n",
    "[<source code>]. https://scikit-learn.org/stable/modules/neighbors.html\n",
    "\n",
    "Ethan Rosenthal (November 2, 2015) Intro to collaborative filtering\n",
    "[<source code>]. https://www.ethanrosenthal.com/2015/11/02/intro-to-collaborative-filtering/"
   ]
  },
  {
   "attachments": {},
   "cell_type": "markdown",
   "metadata": {},
   "source": [
    "### 3.2 Creating Collaborative Recommender System utilizing KNN"
   ]
  },
  {
   "attachments": {},
   "cell_type": "markdown",
   "metadata": {},
   "source": [
    "##### Why Three Features for Collaborative Filtering?\n",
    "\n",
    "Collaborative filtering is a commonly used approach in recommendation systems. It relies on the idea that users who have similar preferences in the past are likely to have similar preferences in the future.\n",
    "\n",
    "In this case, collaborative filtering is performed using three features: user_id, business_id, and stars. These features capture important aspects of the user-item interaction. By considering all three features, the KNN model can identify similarities between customers and generate personalized recommendations.\n",
    "\n",
    "The customer_id and movie_id serve as identifiers for specific customers and movies, while the ratings represent the expressed preferences of customers for particular movies. By analyzing patterns and similarities in these three features, the KNN model can make accurate predictions for movie ratings based on similar customers' preferences.\n",
    "\n",
    "By using these three features in collaborative filtering, the KNN model can leverage the collective wisdom of users with similar tastes to provide personalized and accurate recommendations for movie ratings."
   ]
  },
  {
   "attachments": {},
   "cell_type": "markdown",
   "metadata": {},
   "source": [
    "### KNN by hand for top 10 similar restaurants"
   ]
  },
  {
   "cell_type": "code",
   "execution_count": 164,
   "metadata": {},
   "outputs": [],
   "source": [
    "# Create an instance of NearestNeighbors with the desired parameters\n",
    "knn_restaurant = NearestNeighbors(metric='cosine', algorithm='brute', n_neighbors=30, n_jobs=-1)\n",
    "\n",
    "# Fit the model on the restaurant sparse matrix\n",
    "knn_restaurant.fit(Train_sparse_matrix_restaurant)\n",
    "\n",
    "# Make a function to get the recommendations\n",
    "def get_recommendations(restaurant_index):\n",
    "    # Get the distances and indices of the nearest neighbors\n",
    "    distances, indices = knn_restaurant.kneighbors(Train_sparse_matrix_restaurant[restaurant_index], n_neighbors=10)\n",
    "\n",
    "    print(\"Top 10 similar restaurants:\")\n",
    "\n",
    "    # Loop through the distances and indices to print the restaurant indices and distances\n",
    "    for i in range(1, len(distances.flatten())):  # Start from 1 to skip the restaurant itself\n",
    "        # Get the index of the nearest neighbor restaurant\n",
    "        recommended_restaurant_index = indices.flatten()[i]\n",
    "        # Get the distance of the nearest neighbor\n",
    "        distance = distances.flatten()[i]\n",
    "        # Print the restaurant index and distance\n",
    "        print(f\"{i}: Restaurant {recommended_restaurant_index}, with distance of {distance:.5f}\")\n"
   ]
  },
  {
   "attachments": {},
   "cell_type": "markdown",
   "metadata": {},
   "source": [
    "### Features\n",
    "\n",
    "In the provided code, the features 'stars', 'business_id', and 'user_id' are used to find similarities between the restaurants. These features are derived from the dataset used to train the model, and they play a role in determining the similarities between restaurants based on user preferences and interactions.\n",
    "\n",
    "The NearestNeighbors algorithm is applied to the dataset represented by the Train_sparse_matrix_restaurant, which contains information about user ratings, business IDs, and user IDs. The 'stars' feature represents the ratings given by users to different restaurants, while 'business_id' and 'user_id' help identify specific businesses and users, respectively.\n",
    "\n",
    "The algorithm utilizes the cosine similarity metric to calculate the similarity between the feature vectors of restaurants. By comparing the 'stars', 'business_id', and 'user_id' values, the algorithm determines how closely related two restaurants are based on the patterns and preferences expressed by users in their ratings."
   ]
  },
  {
   "attachments": {},
   "cell_type": "markdown",
   "metadata": {},
   "source": [
    "### Explanation of code\n",
    "\n",
    "The get_recommendations function is designed to recommend similar restaurants based on a given restaurant index. Here's a step-by-step explanation of how the function works:\n",
    "\n",
    "The function takes a restaurant index as input (restaurant_index), representing the index of the restaurant in the Train_sparse_matrix_restaurant.\n",
    "\n",
    "Using the knn_restaurant model that was previously trained, the function calls the kneighbors method to find the distances and indices of the nearest neighbors to the specified restaurant. This method returns two arrays:\n",
    "\n",
    "1. distances: An array containing the distances between the specified restaurant and its nearest neighbors.\n",
    "2. indices: An array containing the indices of the nearest neighbors in the Train_sparse_matrix_restaurant.\n",
    "The function then proceeds to print the header for the recommended restaurants: \"Top 10 similar restaurants.\"\n",
    "\n",
    "Inside the loop that iterates from 1 to the length of distances.flatten() (excluding the first element, which represents the specified restaurant itself), the function retrieves information about each recommended restaurant and prints it. Here's what happens in each iteration:\n",
    "\n",
    "It retrieves the index of the nearest neighbor restaurant (recommended_restaurant_index) from indices.flatten().\n",
    "It retrieves the distance between the specified restaurant and the recommended restaurant (distance) from distances.flatten().\n",
    "It prints the iteration number, recommended restaurant index, and distance in the following format: \"{i}: Restaurant {recommended_restaurant_index}, with distance of {distance:.5f}\".\n",
    "Therefore, the code finds similarities between the restaurants based on the distances calculated using the cosine similarity metric. The nearest neighbors with smaller distances are considered more similar to the specified restaurant. The function then displays the top 10 similar restaurants, including their indices and distances."
   ]
  },
  {
   "cell_type": "code",
   "execution_count": 189,
   "metadata": {},
   "outputs": [
    {
     "name": "stdout",
     "output_type": "stream",
     "text": [
      "Top 10 similar restaurants:\n",
      "1: Restaurant 587, with distance of 0.40358\n",
      "2: Restaurant 433, with distance of 0.55433\n",
      "3: Restaurant 374, with distance of 0.62861\n",
      "4: Restaurant 643, with distance of 0.62861\n",
      "5: Restaurant 567, with distance of 0.62861\n",
      "6: Restaurant 207, with distance of 0.67173\n",
      "7: Restaurant 184, with distance of 0.71387\n",
      "8: Restaurant 96, with distance of 0.72443\n",
      "9: Restaurant 154, with distance of 0.72801\n"
     ]
    }
   ],
   "source": [
    "get_recommendations(10)"
   ]
  },
  {
   "attachments": {},
   "cell_type": "markdown",
   "metadata": {},
   "source": [
    "### KNN surprise"
   ]
  },
  {
   "attachments": {},
   "cell_type": "markdown",
   "metadata": {},
   "source": [
    "<b>The KNN surprise package is used to determine the RMSE score because this could not be done by hand. To answer the research question the RMSE is needed."
   ]
  },
  {
   "attachments": {},
   "cell_type": "markdown",
   "metadata": {},
   "source": [
    "The KNNBasic algorithm in the Surprise package is a collaborative filtering algorithm based on k-nearest neighbors. It leverages the similarity between users or items to make recommendations. Here's how it works:\n",
    "\n",
    "Data Preprocessing:\n",
    "\n",
    "Similar to other Surprise algorithms, KNNBasic internally preprocesses the input data to convert it into a suitable format for further processing.\n",
    "It handles the conversion of raw data, such as user-item interactions or ratings, into Surprise's specific data structures, namely the Dataset and Trainset objects.\n",
    "\n",
    "Initialization:\n",
    "\n",
    "Before training the KNNBasic algorithm, Surprise initializes the necessary data structures, such as the user-item rating matrix.\n",
    "It computes various statistics and data structures to enable efficient nearest neighbor searches during the prediction phase.\n",
    "\n",
    "Training:\n",
    "\n",
    "During the training phase, KNNBasic builds a model based on the provided training data.\n",
    "It identifies the nearest neighbors for each item or user in the dataset.\n",
    "The algorithm determines the similarity between items or users based on a chosen similarity metric, such as cosine similarity or Pearson correlation.\n",
    "The number of nearest neighbors considered is specified by the k parameter.\n",
    "\n",
    "Prediction:\n",
    "\n",
    "After the KNNBasic model is trained, it can make predictions for unknown user-item pairs.\n",
    "To compute a prediction for a given user-item pair, the algorithm utilizes the nearest neighbors identified during training.\n",
    "It takes into account the ratings or interactions of the nearest neighbors to estimate the rating or preference for the target user-item pair.\n",
    "The specific method of aggregation for prediction varies depending on the approach chosen (item-based or user-based collaborative filtering).\n",
    "\n",
    "Model Evaluation:\n",
    "\n",
    "To assess the accuracy of the predictions made by the KNNBasic model, Surprise uses evaluation metrics such as Root Mean Squared Error (RMSE) or Mean Absolute Error (MAE).\n",
    "These metrics measure the difference between the predicted ratings and the observed ratings in a separate test set.\n",
    "The evaluation allows for the comparison of different algorithms or parameter configurations."
   ]
  },
  {
   "cell_type": "code",
   "execution_count": 238,
   "metadata": {},
   "outputs": [
    {
     "name": "stdout",
     "output_type": "stream",
     "text": [
      "\n",
      "Results for FL:\n",
      "\n",
      "Computing the msd similarity matrix...\n",
      "Done computing similarity matrix.\n",
      "Computing the msd similarity matrix...\n",
      "Done computing similarity matrix.\n",
      "Computing the msd similarity matrix...\n",
      "Done computing similarity matrix.\n",
      "Computing the msd similarity matrix...\n",
      "Done computing similarity matrix.\n",
      "Computing the msd similarity matrix...\n",
      "Done computing similarity matrix.\n",
      "Evaluating RMSE of algorithm KNNBasic on 5 split(s).\n",
      "\n",
      "                  Fold 1  Fold 2  Fold 3  Fold 4  Fold 5  Mean    Std     \n",
      "RMSE (testset)    1.0520  1.0767  1.0359  1.0630  1.0874  1.0630  0.0181  \n",
      "Fit time          0.05    0.07    0.06    0.05    0.06    0.06    0.01    \n",
      "Test time         0.38    0.27    0.22    0.23    0.32    0.28    0.06    \n",
      "\n",
      "Results for PA:\n",
      "\n",
      "Computing the msd similarity matrix...\n",
      "Done computing similarity matrix.\n",
      "Computing the msd similarity matrix...\n",
      "Done computing similarity matrix.\n",
      "Computing the msd similarity matrix...\n",
      "Done computing similarity matrix.\n",
      "Computing the msd similarity matrix...\n",
      "Done computing similarity matrix.\n",
      "Computing the msd similarity matrix...\n",
      "Done computing similarity matrix.\n",
      "Evaluating RMSE of algorithm KNNBasic on 5 split(s).\n",
      "\n",
      "                  Fold 1  Fold 2  Fold 3  Fold 4  Fold 5  Mean    Std     \n",
      "RMSE (testset)    1.0229  1.0093  1.0401  1.0279  1.0145  1.0229  0.0108  \n",
      "Fit time          0.06    0.07    0.06    0.07    0.05    0.06    0.01    \n",
      "Test time         0.30    0.32    0.23    0.25    0.26    0.27    0.03    \n",
      "\n",
      "Results for All:\n",
      "\n",
      "Computing the msd similarity matrix...\n",
      "Done computing similarity matrix.\n",
      "Computing the msd similarity matrix...\n",
      "Done computing similarity matrix.\n",
      "Computing the msd similarity matrix...\n",
      "Done computing similarity matrix.\n",
      "Computing the msd similarity matrix...\n",
      "Done computing similarity matrix.\n",
      "Computing the msd similarity matrix...\n",
      "Done computing similarity matrix.\n",
      "Evaluating RMSE of algorithm KNNBasic on 5 split(s).\n",
      "\n",
      "                  Fold 1  Fold 2  Fold 3  Fold 4  Fold 5  Mean    Std     \n",
      "RMSE (testset)    1.1406  1.0919  1.1388  1.1482  1.0970  1.1233  0.0238  \n",
      "Fit time          0.02    0.02    0.01    0.02    0.02    0.02    0.00    \n",
      "Test time         0.02    0.02    0.02    0.02    0.03    0.02    0.00    \n"
     ]
    }
   ],
   "source": [
    "# Define the rating scale\n",
    "reader = Reader(rating_scale=(1, 5))\n",
    "\n",
    "for state, df_state in dfs.items():\n",
    "    print(f\"\\nResults for {state}:\\n\")\n",
    "    \n",
    "    # Load the dataset from the dataframe\n",
    "    data = Dataset.load_from_df(df_state[['user_id', 'business_id', 'stars']], reader)\n",
    "    \n",
    "    # Define the algorithm\n",
    "    algo = KNNBasic()\n",
    "    \n",
    "    # Run 5-fold cross-validation and print results\n",
    "    cross_validate(algo, data, measures=['RMSE'], cv=5, verbose=True)\n"
   ]
  },
  {
   "attachments": {},
   "cell_type": "markdown",
   "metadata": {},
   "source": [
    "### Results \n",
    "\n",
    "These results show the performance of the KNNBasic model in predicting restaurant ratings for all restaurants, and then separately for Florida (FL), Pennsylvania (PA), and all combined. The model's performance is evaluated using cross-validation, a technique that splits the data into a number of \"folds\" (in this case, five) and trains and tests the model on different subsets of the data.\n",
    "\n",
    "The main performance metric here is RMSE (Root Mean Squared Error), which measures the difference between the model's predictions and the actual ratings. Lower RMSE values indicate better performance.\n",
    "\n",
    "For all restaurants:\n",
    "\n",
    "The model's average RMSE across the five folds is 1.1233. This means that on average, the model's predictions are about 1.12 stars off from the actual ratings.\n",
    "The standard deviation (Std) of the RMSEs is 0.0238, showing the variability of the RMSE values across the folds.\n",
    "\n",
    "For restaurants in Pennsylvania (PA):\n",
    "\n",
    "The model performs better with an average RMSE of 1.0229.\n",
    "The Std is 0.0108, which is lower than that for all restaurants, indicating less variability in the model's performance across the different folds.\n",
    "\n",
    "For restaurants in Florida (FL):\n",
    "\n",
    "The model's average RMSE is 1.0630, which is slightly worse than for PA but better than for all restaurants.\n",
    "The Std is 0.0181, indicating a small amount of variability in the RMSE values across the folds.\n",
    "\n",
    "<b> In simpler terms, the model is best at predicting ratings for restaurants in Pennsylvania, slightly worse for Florida, and worst for all restaurants combined. However, the differences are fairly small."
   ]
  },
  {
   "attachments": {},
   "cell_type": "markdown",
   "metadata": {},
   "source": [
    "### 3.3 Optimizing Parameters\n",
    "\n",
    "Hyperparameter Tuning via Grid Search\n",
    "\n",
    "The following segment of code performs a grid search to fine-tune the hyperparameters for the get_recommendations function. <br>\n",
    "The 'param_grid' dictionary outlines the hyperparameters and their potential values that the grid search should explore. The values listed in the dictionary represent the possible options for the 'n_neighbors', 'metric', and 'algorithm' hyperparameters. <br>\n",
    "The 'scoring' dictionary is formulated to define the metric that will be used to assess the performance of the model. In this case, the root mean square error (RMSE) is the chosen metric. <br>\n",
    "The KNN_predict function is then initiated with some default hyperparameter values, and GridSearchCV is employed to conduct a search over the hyperparameter grid using 3-fold cross-validation (cv=3). <br>\n",
    "The 'knn' object is provided as the estimator, while the 'param_grid' and 'scoring' dictionaries are used to designate the hyperparameters and evaluation metric, respectively. <br>\n",
    "\n",
    "\n",
    "<b> The optimal hyperparameters are then displayed: {'algorithm': 'brute', 'metric': 'cosine', 'n_neighbors': 10}."
   ]
  },
  {
   "cell_type": "code",
   "execution_count": 251,
   "metadata": {},
   "outputs": [
    {
     "name": "stdout",
     "output_type": "stream",
     "text": [
      "Optimal parameters for All Restaurants:\n",
      "Optimal parameters: {'distance_metric': 'cosine', 'neighbour_count': 10, 'search_algorithm': 'brute'}\n",
      "\n",
      "Optimal parameters for Florida Restaurants:\n",
      "Optimal parameters: {'distance_metric': 'cosine', 'neighbour_count': 10, 'search_algorithm': 'brute'}\n",
      "\n",
      "Optimal parameters for Pennsylvania Restaurants:\n",
      "Optimal parameters: {'distance_metric': 'cosine', 'neighbour_count': 10, 'search_algorithm': 'brute'}\n"
     ]
    }
   ],
   "source": [
    "hyperparams = {\n",
    "    'neighbour_count': [10, 20, 30],\n",
    "    'distance_metric': ['cosine', 'manhattan'],\n",
    "    'search_algorithm': ['brute', 'kd_tree']\n",
    "}\n",
    "\n",
    "# Define the performance measurement to use\n",
    "performance_metric = {'RMSE': make_scorer(accuracy.rmse, greater_is_better=False)}\n",
    "\n",
    "class KNNRecommendationEngine(BaseEstimator):\n",
    "    def __init__(self, neighbour_count=20, distance_metric=\"cosine\", search_algorithm=\"brute\"):\n",
    "        self.neighbour_count = neighbour_count\n",
    "        self.distance_metric = distance_metric\n",
    "        self.search_algorithm = search_algorithm\n",
    "\n",
    "    def fit(self, train_data_matrix):\n",
    "        self.train_data_matrix = train_data_matrix\n",
    "        return self\n",
    "\n",
    "# Create an instance of the KNNRecommendationEngine\n",
    "knn_rec_engine = KNNRecommendationEngine()\n",
    "\n",
    "# Create an instance of GridSearchCV\n",
    "grid_search_instance = GridSearchCV(knn_rec_engine, hyperparams, scoring=performance_metric, cv=3, refit='RMSE')\n",
    "\n",
    "# Apply the GridSearchCV instance to the data for all restaurants\n",
    "print(\"Optimal parameters for All Restaurants:\")\n",
    "grid_search_instance.fit(Train_sparse_matrix_restaurant)\n",
    "print(\"Optimal parameters:\", grid_search_instance.best_params_)\n",
    "\n",
    "# Apply the GridSearchCV instance to the data for Florida restaurants\n",
    "print(\"\\nOptimal parameters for Florida Restaurants:\")\n",
    "grid_search_instance.fit(restaurant_sparse_matrix_FL)\n",
    "print(\"Optimal parameters:\", grid_search_instance.best_params_)\n",
    "\n",
    "# Apply the GridSearchCV instance to the data for Pennsylvania restaurants\n",
    "print(\"\\nOptimal parameters for Pennsylvania Restaurants:\")\n",
    "grid_search_instance.fit(restaurant_sparse_matrix_PA)\n",
    "print(\"Optimal parameters:\", grid_search_instance.best_params_)\n"
   ]
  },
  {
   "attachments": {},
   "cell_type": "markdown",
   "metadata": {},
   "source": [
    "## 3.4 *Subquestion 4:  How effectively can jokes be recommended using collaborative filtering via SVD?*<br>"
   ]
  },
  {
   "attachments": {},
   "cell_type": "markdown",
   "metadata": {},
   "source": [
    "USED SOURCES:\n",
    "\n",
    "Nicolas Hug  (2015) Using Prediction algorithms [<source code>]. \n",
    "https://surprise.readthedocs.io/en/stable/prediction_algorithms.html\n",
    "\n",
    "George Pipis (19-06-2020) How To Run Recommender Systems In Python[<source code>]. \n",
    "https://predictivehacks.com/how-to-run-recommender-systems-in-python/\n",
    "\n",
    "Nick Becker ( 10 -11 2016) Matrix Factorization for Movie Recommendations in Python[<source code>]. \n",
    "https://beckernick.github.io/matrix-factorization-recommender/\n",
    "\n"
   ]
  },
  {
   "attachments": {},
   "cell_type": "markdown",
   "metadata": {},
   "source": [
    "### Surprise package SVD explanation\n",
    "\n",
    "The SVD algorithm is a powerful tool often used to predict what kind of items (like movies, music, books) users might like. I'm using a version of SVD provided by a software package called Surprise.\n",
    "\n",
    "Imagine we have a big table or grid where each row is a user, each column is an item (like a movie), and each cell in the table shows how much that user likes that item. But there are many empty cells because not every user has rated every item.\n",
    "\n",
    "The big idea of SVD is to take that large table and break it down into smaller, simpler pieces (think smaller tables or lists). These smaller pieces have important information about patterns in user preferences, even though they're much simpler than the big table.\n",
    "\n",
    "Here's how the Surprise package uses SVD to fill in those empty cells (i.e., predict ratings):\n",
    "\n",
    "Data Processing: Surprise first makes sure the data is in the right format that it can work with.\n",
    "\n",
    "Initialization: Surprise starts by creating two smaller tables (called matrices). One represents user preferences, and the other represents item characteristics. It fills these tables with some initial random numbers.\n",
    "\n",
    "Training: Then, Surprise tweaks these numbers using a method called Stochastic Gradient Descent (SGD). It keeps adjusting the numbers so that the predicted ratings in our large table get closer to the actual known ratings. It also includes a step to prevent the model from fitting the training data too closely (this is called overfitting).\n",
    "\n",
    "Bias Calculation: Surprise also considers that some users may naturally rate higher or lower than others, and some items might be generally more liked or disliked. This is handled by calculating biases for each user and item.\n",
    "\n",
    "Prediction: After training, the SVD model can predict ratings for a user-item pair. It does this by combining the relevant parts of the user and item tables, and adding the user and item biases. The result is the predicted rating.\n",
    "\n",
    "Model Evaluation: In the end, Surprise checks how good the SVD model is by comparing the predicted ratings to the actual known ratings. The difference between these ratings is measured using the Root Mean Squared Error (RMSE)."
   ]
  },
  {
   "attachments": {},
   "cell_type": "markdown",
   "metadata": {},
   "source": [
    "### Code explanation\n",
    "\n",
    "This code demonstrates how to use the Surprise library to build a recommender system using Single Value Decomposition (SVD) like explained earlier. \n",
    "\n",
    "Initializing the Surprise Reader: First, we set up the Surprise reader, specifying the rating scale of the dataset (e.g., 1 to 5). This helps the library understand the range of ratings in the dataset.\n",
    "\n",
    "Loading the Dataset: Next, we load the dataset into the Surprise dataset format. We use a pandas DataFrame, selecting only the relevant columns (e.g., user_id, business_id, and stars) to optimize memory usage.\n",
    "\n",
    "Instantiating the SVD Algorithm: We create an instance of the SVD algorithm, which will be used as the recommendation model. SVD breaks down the user-item preference matrix to uncover latent features and patterns.\n",
    "\n",
    "Performing Cross-Validation: To assess the model's performance, we conduct a 5-fold cross-validation on the dataset using the SVD algorithm. This means the data is split into five parts, and the algorithm is trained and evaluated five times, each time using a different part as the test set. The performance metrics, such as Root Mean Squared Error (RMSE) and Mean Absolute Error (MAE), are calculated to measure the accuracy of the model's predictions.\n",
    "\n",
    "Training and Testing: The dataset is then split into a training set (75% of the data) and a test set (25% of the data) using the train_test_split function provided by Surprise. This division allows us to train the SVD algorithm on a portion of the data and test its predictions on the remaining unseen data.\n",
    "\n",
    "Making Predictions: With the trained SVD algorithm, we generate predictions for the test set. The algorithm uses the learned latent features and patterns to estimate the ratings for user-item pairs that were not present in the training data.\n",
    "\n",
    "Evaluating Model Performance: Finally, we calculate the RMSE of the predicted ratings on the test set. The RMSE measures the average difference between the predicted ratings and the actual ratings. A lower RMSE indicates a more accurate model in capturing user preferences and making recommendations.\n",
    "\n",
    "By following these steps, I can build a recommender system using SVD and assess its performance in predicting user preferences and generating personalized recommendations."
   ]
  },
  {
   "cell_type": "code",
   "execution_count": 249,
   "metadata": {},
   "outputs": [
    {
     "name": "stdout",
     "output_type": "stream",
     "text": [
      "Evaluating RMSE of algorithm SVD on 5 split(s).\n",
      "\n",
      "                  Fold 1  Fold 2  Fold 3  Fold 4  Fold 5  Mean    Std     \n",
      "RMSE (testset)    0.9954  0.9919  0.9766  0.9713  0.9860  0.9842  0.0091  \n",
      "Fit time          0.25    0.25    0.25    0.21    0.21    0.23    0.02    \n",
      "Test time         0.03    0.04    0.03    0.04    0.04    0.04    0.00    \n",
      "\n",
      "For FL dataset:\n",
      "RMSE: 0.9962\n",
      "RMSE:  0.9961520718925777\n",
      "MAE:  0.7785\n",
      "MAE:  0.7784715770668046\n",
      "Evaluating RMSE, MAE of algorithm SVD on 5 split(s).\n",
      "\n",
      "                  Fold 1  Fold 2  Fold 3  Fold 4  Fold 5  Mean    Std     \n",
      "RMSE (testset)    0.9843  0.9934  0.9794  0.9956  0.9784  0.9862  0.0071  \n",
      "MAE (testset)     0.7700  0.7744  0.7713  0.7828  0.7645  0.7726  0.0060  \n",
      "Fit time          0.23    0.21    0.25    0.24    0.29    0.24    0.03    \n",
      "Test time         0.03    0.03    0.03    0.03    0.02    0.03    0.00    \n",
      "Mean RMSE:  0.9862180729291457\n",
      "Mean MAE:  0.7726107472252401\n",
      "Evaluating RMSE of algorithm SVD on 5 split(s).\n",
      "\n",
      "                  Fold 1  Fold 2  Fold 3  Fold 4  Fold 5  Mean    Std     \n",
      "RMSE (testset)    0.9441  0.9487  0.9486  0.9468  0.9413  0.9459  0.0028  \n",
      "Fit time          0.17    0.19    0.17    0.14    0.17    0.17    0.01    \n",
      "Test time         0.04    0.02    0.02    0.03    0.02    0.03    0.01    \n",
      "\n",
      "For PA dataset:\n",
      "RMSE: 0.9378\n",
      "RMSE:  0.9377914394680286\n",
      "MAE:  0.7453\n",
      "MAE:  0.7452609865696156\n",
      "Evaluating RMSE, MAE of algorithm SVD on 5 split(s).\n",
      "\n",
      "                  Fold 1  Fold 2  Fold 3  Fold 4  Fold 5  Mean    Std     \n",
      "RMSE (testset)    0.9483  0.9497  0.9466  0.9421  0.9412  0.9455  0.0034  \n",
      "MAE (testset)     0.7472  0.7392  0.7527  0.7412  0.7486  0.7458  0.0049  \n",
      "Fit time          0.23    0.20    0.17    0.16    0.22    0.19    0.03    \n",
      "Test time         0.03    0.02    0.02    0.02    0.02    0.02    0.00    \n",
      "Mean RMSE:  0.9455494439735987\n",
      "Mean MAE:  0.7457888089260747\n",
      "Evaluating RMSE of algorithm SVD on 5 split(s).\n",
      "\n",
      "                  Fold 1  Fold 2  Fold 3  Fold 4  Fold 5  Mean    Std     \n",
      "RMSE (testset)    1.0166  1.0110  0.9778  1.0034  0.9830  0.9983  0.0153  \n",
      "Fit time          0.06    0.06    0.05    0.06    0.05    0.06    0.00    \n",
      "Test time         0.01    0.01    0.02    0.01    0.01    0.01    0.00    \n",
      "\n",
      "For All dataset:\n",
      "RMSE: 0.9775\n",
      "RMSE:  0.9775295372937841\n",
      "MAE:  0.7574\n",
      "MAE:  0.7574338122991876\n",
      "Evaluating RMSE, MAE of algorithm SVD on 5 split(s).\n",
      "\n",
      "                  Fold 1  Fold 2  Fold 3  Fold 4  Fold 5  Mean    Std     \n",
      "RMSE (testset)    0.9769  0.9489  1.0085  0.9928  1.0540  0.9962  0.0350  \n",
      "MAE (testset)     0.7614  0.7458  0.7770  0.7760  0.8108  0.7742  0.0216  \n",
      "Fit time          0.05    0.06    0.06    0.05    0.05    0.05    0.01    \n",
      "Test time         0.01    0.01    0.00    0.01    0.01    0.01    0.00    \n",
      "Mean RMSE:  0.9962146032511582\n",
      "Mean MAE:  0.7741933495997926\n"
     ]
    }
   ],
   "source": [
    "# Define the rating scale\n",
    "reader = Reader(rating_scale=(1, 5))\n",
    "\n",
    "# Define the algorithm\n",
    "algo = SVD()\n",
    "\n",
    "results = {}\n",
    "\n",
    "# Loop over each state's dataframe\n",
    "for state, df_state in dfs.items():\n",
    "    # Load the dataset from the dataframe\n",
    "    data = Dataset.load_from_df(df_state[['user_id', 'business_id', 'stars']], reader)\n",
    "    \n",
    "    # Run 5-fold cross-validation and store the results\n",
    "    results[state] = cross_validate(algo, data, measures=['RMSE'], cv=5, verbose=True)\n",
    "    \n",
    "    # Split the data into train and test sets\n",
    "    trainset, testset = train_test_split(data, test_size=0.25, random_state=42)\n",
    "\n",
    "    # Train the algorithm on the trainset, and predict ratings for the testset\n",
    "    algo.fit(trainset)\n",
    "    predictions = algo.test(testset)\n",
    "\n",
    "    # Compute and print RMSE and MAE\n",
    "    print(f\"\\nFor {state} dataset:\")\n",
    "    print(\"RMSE: \", accuracy.rmse(predictions))\n",
    "    print(\"MAE: \", accuracy.mae(predictions))\n",
    "    \n",
    "    # Perform cross validation and print the mean RMSE and MAE\n",
    "    cv_results = cross_validate(algo, data, measures=['RMSE', 'MAE'], cv=5, verbose=True)\n",
    "    print(\"Mean RMSE: \", cv_results['test_rmse'].mean())\n",
    "    print(\"Mean MAE: \", cv_results['test_mae'].mean())\n",
    "\n"
   ]
  },
  {
   "attachments": {},
   "cell_type": "markdown",
   "metadata": {},
   "source": [
    "### Results for SVD\n",
    "\n",
    "RMSE Values:\n",
    "\n",
    "FL Dataset: RMSE = 0.9962\n",
    "\n",
    "PA Dataset: RMSE = 0.9378\n",
    "\n",
    "All Dataset: RMSE = 0.9775\n",
    "\n",
    "The RMSE values indicate the average difference between the predicted and actual ratings. Lower RMSE values suggest better accuracy. In this case, the PA dataset has the lowest RMSE, indicating that the SVD algorithm performs relatively better in predicting restaurant ratings for Pennsylvania.\n",
    "\n",
    "MAE Values:\n",
    "\n",
    "FL Dataset: MAE = 0.7785\n",
    "\n",
    "PA Dataset: MAE = 0.7453\n",
    "\n",
    "All Dataset: MAE = 0.7574\n",
    "\n",
    "The MAE values represent the average absolute difference between the predicted and actual ratings. Similarly to RMSE, lower MAE values indicate better accuracy. In this case, the PA dataset has the lowest MAE, suggesting that the SVD algorithm provides more accurate predictions for Pennsylvania restaurants.\n",
    "\n",
    "<b>Overall, the results indicate that the SVD algorithm performs slightly better for the PA dataset compared to the FL and All datasets, as evidenced by lower RMSE and MAE values. This suggests that there may be variations in user preferences and restaurant characteristics across different states, influencing the effectiveness of the SVD algorithm in predicting ratings."
   ]
  },
  {
   "attachments": {},
   "cell_type": "markdown",
   "metadata": {},
   "source": [
    "## Getting top 10 recommendations for restaurants per user"
   ]
  },
  {
   "attachments": {},
   "cell_type": "markdown",
   "metadata": {},
   "source": [
    "The get_business_recommendations function provides personalized business recommendations for a user using a collaborative filtering algorithm (in this case, SVD). Here's how it works:\n",
    "\n",
    "The function takes two inputs: businesses_to_predict, which is a list of businesses for which we want to generate recommendations, and uid, which represents the user ID for whom the recommendations are being generated.\n",
    "\n",
    "Inside the function, an empty list called my_recs is created to store the recommendations.\n",
    "\n",
    "The function iterates over each business_id in the businesses_to_predict list.\n",
    "\n",
    "For each business_id, the algorithm (algo) predicts the rating that the user (uid) would give to that business. This predicted rating is accessed using .est.\n",
    "\n",
    "The business_id and its corresponding predicted rating are appended as a tuple to the my_recs list.\n",
    "\n",
    "Once all the predictions have been made and stored in my_recs, a Pandas DataFrame called recs_df is created from the list. It has two columns: 'business_id' and 'predicted_rating'.\n",
    "\n",
    "The predicted ratings in the DataFrame are rounded to two decimal places to provide a cleaner representation.\n",
    "\n",
    "The DataFrame is sorted in descending order based on the 'predicted_rating' column.\n",
    "\n",
    "Finally, the function returns the top 10 recommendations from the sorted DataFrame, which are the businesses with the highest predicted ratings. These recommendations are most likely to satisfy the user's preferences."
   ]
  },
  {
   "cell_type": "code",
   "execution_count": 219,
   "metadata": {},
   "outputs": [],
   "source": [
    "# get the list of the restaurant ids\n",
    "unique_ids = df_all['business_id'].unique()\n",
    "\n",
    "# get the list of the ids that the userid 4071 has rated\n",
    "iids1001 = df_all.loc[df['user_id']==4071, 'business_id']\n",
    "\n",
    "# remove the rated movies for the recommendations\n",
    "businesses_to_predict = np.setdiff1d(unique_ids,iids1001)"
   ]
  },
  {
   "cell_type": "code",
   "execution_count": 217,
   "metadata": {},
   "outputs": [],
   "source": [
    "def get_business_recommendations(businesses_to_predict, uid):\n",
    "    my_recs = []  # Create an empty list to store the recommendations\n",
    "\n",
    "    for business_id in businesses_to_predict:\n",
    "        # Predict the rating for each business in the list based on the user ID\n",
    "        predicted_rating = algo.predict(uid=uid, iid=business_id).est\n",
    "        my_recs.append((business_id, predicted_rating))  # Append the business ID and predicted rating to the list\n",
    "\n",
    "    recs_df = pd.DataFrame(my_recs, columns=['business_id', 'predicted_rating'])  # Create a DataFrame from the recommendations list\n",
    "    recs_df['predicted_rating'] = recs_df['predicted_rating'].round(2)  # Round the predicted ratings to two decimal places\n",
    "\n",
    "    # Sort the DataFrame by predicted rating in descending order and return the top 10 recommendations\n",
    "    return recs_df.sort_values('predicted_rating', ascending=False).head(10)\n"
   ]
  },
  {
   "cell_type": "code",
   "execution_count": 223,
   "metadata": {},
   "outputs": [
    {
     "data": {
      "text/html": [
       "<div>\n",
       "<style scoped>\n",
       "    .dataframe tbody tr th:only-of-type {\n",
       "        vertical-align: middle;\n",
       "    }\n",
       "\n",
       "    .dataframe tbody tr th {\n",
       "        vertical-align: top;\n",
       "    }\n",
       "\n",
       "    .dataframe thead th {\n",
       "        text-align: right;\n",
       "    }\n",
       "</style>\n",
       "<table border=\"1\" class=\"dataframe\">\n",
       "  <thead>\n",
       "    <tr style=\"text-align: right;\">\n",
       "      <th></th>\n",
       "      <th>business_id</th>\n",
       "      <th>predicted_rating</th>\n",
       "    </tr>\n",
       "  </thead>\n",
       "  <tbody>\n",
       "    <tr>\n",
       "      <th>131</th>\n",
       "      <td>2880</td>\n",
       "      <td>4.59</td>\n",
       "    </tr>\n",
       "    <tr>\n",
       "      <th>37</th>\n",
       "      <td>839</td>\n",
       "      <td>4.51</td>\n",
       "    </tr>\n",
       "    <tr>\n",
       "      <th>587</th>\n",
       "      <td>12514</td>\n",
       "      <td>4.51</td>\n",
       "    </tr>\n",
       "    <tr>\n",
       "      <th>477</th>\n",
       "      <td>10088</td>\n",
       "      <td>4.51</td>\n",
       "    </tr>\n",
       "    <tr>\n",
       "      <th>351</th>\n",
       "      <td>7790</td>\n",
       "      <td>4.49</td>\n",
       "    </tr>\n",
       "    <tr>\n",
       "      <th>795</th>\n",
       "      <td>17582</td>\n",
       "      <td>4.48</td>\n",
       "    </tr>\n",
       "    <tr>\n",
       "      <th>70</th>\n",
       "      <td>1558</td>\n",
       "      <td>4.45</td>\n",
       "    </tr>\n",
       "    <tr>\n",
       "      <th>683</th>\n",
       "      <td>14648</td>\n",
       "      <td>4.41</td>\n",
       "    </tr>\n",
       "    <tr>\n",
       "      <th>586</th>\n",
       "      <td>12474</td>\n",
       "      <td>4.41</td>\n",
       "    </tr>\n",
       "    <tr>\n",
       "      <th>454</th>\n",
       "      <td>9468</td>\n",
       "      <td>4.40</td>\n",
       "    </tr>\n",
       "  </tbody>\n",
       "</table>\n",
       "</div>"
      ],
      "text/plain": [
       "     business_id  predicted_rating\n",
       "131         2880              4.59\n",
       "37           839              4.51\n",
       "587        12514              4.51\n",
       "477        10088              4.51\n",
       "351         7790              4.49\n",
       "795        17582              4.48\n",
       "70          1558              4.45\n",
       "683        14648              4.41\n",
       "586        12474              4.41\n",
       "454         9468              4.40"
      ]
     },
     "execution_count": 223,
     "metadata": {},
     "output_type": "execute_result"
    }
   ],
   "source": [
    "get_business_recommendations(businesses_to_predict, 4071)"
   ]
  },
  {
   "attachments": {},
   "cell_type": "markdown",
   "metadata": {},
   "source": [
    "# 4. **Conclusion**"
   ]
  },
  {
   "attachments": {},
   "cell_type": "markdown",
   "metadata": {},
   "source": [
    "###  The main research question is:\n",
    "Does the performance of collaborative filtering techniques, such as KNN and SVD, vary across different states when applied to the \"Restaurants\" category in Yelp's dataset?\n",
    "\n",
    "###  *Sub questions:* \n",
    "\n",
    "\n",
    "1. How do user preferences and restaurant characteristics differ across various states?\n",
    "\n",
    "The results suggest that restaurants in the same state are more similar to each other than to restaurants in other states. This indicates that there may be variations in user preferences and restaurant characteristics across different states, leading to differences in the types of restaurants and user preferences in each state.\n",
    "\n",
    "2. How do the different models differ in terms of cosine similarity?\n",
    "\n",
    "- Average cosine similarity for Pennsylvania (PA): 0.73\n",
    "- Average cosine similarity for Florida (FL): 0.71\n",
    "- Average cosine similarity for all restaurants: 0.77\n",
    "\n",
    "The k-NN models show variations in average cosine similarity between restaurants for different states. The average distances between the nearest neighbors (restaurants) are slightly different for each state, indicating differences in the similarity of restaurants across states. But the differences are not significant.\n",
    "\n",
    "3. Is there a significant difference in the effectiveness of restaurant recommendations using collaborative filtering via KNN across different states?\n",
    "\n",
    "- Average RMSE for all restaurants: 1.1233\n",
    "- Average RMSE for Pennsylvania (PA): 1.0229\n",
    "- Average RMSE for Florida (FL): 1.0630\n",
    "\n",
    "The evaluation results of the KNNBasic model show that the average RMSE for predicting restaurant ratings is slightly lower for Pennsylvania (PA) compared to Florida (FL) and all combined. However, the differences are fairly small, suggesting that the effectiveness of restaurant recommendations using KNN does not significantly vary across states.\n",
    "\n",
    "4. Is there a significant difference in the effectiveness of restaurant recommendations using collaborative filtering via SVD across different states?\n",
    "\n",
    "- RMSE for Florida (FL) dataset: 0.9962\n",
    "- RMSE for Pennsylvania (PA) dataset: 0.9378\n",
    "- RMSE for all datasets combined: 0.9775\n",
    "- MAE for Florida (FL) dataset: 0.7785\n",
    "- MAE for Pennsylvania (PA) dataset: 0.7453\n",
    "- MAE for all datasets combined: 0.7574\n",
    "\n",
    "The evaluation results of the SVD algorithm show that the RMSE and MAE values for predicting restaurant ratings are slightly lower for the Pennsylvania (PA) dataset compared to Florida (FL) and all combined. This suggests that the SVD algorithm performs relatively better in predicting ratings for Pennsylvania restaurants. However, the differences in performance across states are not substantial.\n",
    "\n",
    "5. How do the KNN and SVD algorithms perform in terms of accuracy when applied to restaurant data from different states?\n",
    "\n",
    "Both the KNN and SVD algorithms show reasonably good accuracy in predicting restaurant ratings across different states, as indicated by the RMSE and MAE values. However, the SVD algorithm tends to perform slightly better in terms of accuracy, particularly for the Pennsylvania dataset. \n",
    "\n",
    "6. How would the top 10 restaurants be suggested to a particular user? \n",
    "For the KNN algorithm, the get_recommendations function takes a restaurant index as input. It uses the NearestNeighbors algorithm to find the nearest neighbors of the specified restaurant based on cosine similarity. It then prints the indices and distances of the top 10 similar restaurants, excluding the restaurant itself.\n",
    "\n",
    "For the SVD algorithm, the get_business_recommendations function takes a list of businesses to predict and a user ID as input. It iterates over the list of businesses and uses the SVD algorithm to predict the rating for each business given the user ID. The predicted ratings are stored in a dataframe, which is then sorted by predicted rating in descending order. The function returns the top 10 recommendations based on the highest predicted ratings.\n"
   ]
  },
  {
   "attachments": {},
   "cell_type": "markdown",
   "metadata": {},
   "source": [
    "## Answering research question:\n",
    "\n",
    "The main research question of this study is: Does the performance of collaborative filtering techniques, such as KNN and SVD, vary across different states when applied to the \"Restaurants\" category in Yelp's dataset?\n",
    "\n",
    "The results indicate that there are some variations in the performance of the collaborative filtering techniques across different states, but the differences are not significant. Both KNN and SVD algorithms show reasonably good accuracy in predicting restaurant ratings for different states, with slightly better performance observed for the Pennsylvania dataset in the case of SVD. However, the differences in performance across states are relatively small.\n",
    "\n",
    "Therefore, based on the findings of this study, the performance of collaborative filtering techniques does not vary significantly across different states when applied to the \"Restaurants\" category in Yelp's dataset. However, it is important to note that this study only examined two states (Pennsylvania and Florida) and an overall dataset, and further research could explore more states to gain a comprehensive understanding of the variations in performance across different geographical regions."
   ]
  }
 ],
 "metadata": {
  "kernelspec": {
   "display_name": "base",
   "language": "python",
   "name": "python3"
  },
  "language_info": {
   "codemirror_mode": {
    "name": "ipython",
    "version": 3
   },
   "file_extension": ".py",
   "mimetype": "text/x-python",
   "name": "python",
   "nbconvert_exporter": "python",
   "pygments_lexer": "ipython3",
   "version": "3.9.16"
  },
  "orig_nbformat": 4
 },
 "nbformat": 4,
 "nbformat_minor": 2
}
